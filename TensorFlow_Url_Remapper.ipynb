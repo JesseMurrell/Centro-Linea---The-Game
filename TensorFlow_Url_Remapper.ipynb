{
  "nbformat": 4,
  "nbformat_minor": 0,
  "metadata": {
    "colab": {
      "name": "TensorFlow Url Remapper.ipynb",
      "version": "0.3.2",
      "provenance": [],
      "include_colab_link": true
    },
    "kernelspec": {
      "name": "python3",
      "display_name": "Python 3"
    }
  },
  "cells": [
    {
      "cell_type": "markdown",
      "metadata": {
        "id": "view-in-github",
        "colab_type": "text"
      },
      "source": [
        "<a href=\"https://colab.research.google.com/github/JesseMurrell/Centro-Linea---The-Game/blob/master/TensorFlow_Url_Remapper.ipynb\" target=\"_parent\"><img src=\"https://colab.research.google.com/assets/colab-badge.svg\" alt=\"Open In Colab\"/></a>"
      ]
    },
    {
      "cell_type": "code",
      "metadata": {
        "id": "T0FHyOSoLxYm",
        "colab_type": "code",
        "colab": {}
      },
      "source": [
        ""
      ],
      "execution_count": 0,
      "outputs": []
    },
    {
      "cell_type": "code",
      "metadata": {
        "id": "eGYHrpq9HwrJ",
        "colab_type": "code",
        "colab": {}
      },
      "source": [
        "import tensorflow as tf\n",
        "import tensorflow_hub as hub"
      ],
      "execution_count": 0,
      "outputs": []
    },
    {
      "cell_type": "code",
      "metadata": {
        "id": "O_8f1gGsH0K3",
        "colab_type": "code",
        "colab": {}
      },
      "source": [
        "embed = hub.Module(\"https://tfhub.dev/google/universal-sentence-encoder/2\")"
      ],
      "execution_count": 0,
      "outputs": []
    },
    {
      "cell_type": "code",
      "metadata": {
        "id": "oPMsYzE4H1Pt",
        "colab_type": "code",
        "colab": {
          "resources": {
            "http://localhost:8080/nbextensions/google.colab/files.js": {
              "data": "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",
              "ok": true,
              "headers": [
                [
                  "content-type",
                  "application/javascript"
                ]
              ],
              "status": 200,
              "status_text": ""
            }
          },
          "base_uri": "https://localhost:8080/",
          "height": 91
        },
        "outputId": "7286c107-f194-44bd-f0aa-c3af25002a5b"
      },
      "source": [
        "from google.colab import files\n",
        "\n",
        "\n",
        "data = files.upload()"
      ],
      "execution_count": 7,
      "outputs": [
        {
          "output_type": "display_data",
          "data": {
            "text/html": [
              "\n",
              "     <input type=\"file\" id=\"files-d28d2891-37c4-4c6b-a105-a9ff9cff11d8\" name=\"files[]\" multiple disabled />\n",
              "     <output id=\"result-d28d2891-37c4-4c6b-a105-a9ff9cff11d8\">\n",
              "      Upload widget is only available when the cell has been executed in the\n",
              "      current browser session. Please rerun this cell to enable.\n",
              "      </output>\n",
              "      <script src=\"/nbextensions/google.colab/files.js\"></script> "
            ],
            "text/plain": [
              "<IPython.core.display.HTML object>"
            ]
          },
          "metadata": {
            "tags": []
          }
        },
        {
          "output_type": "stream",
          "text": [
            "Saving Moonpig_Flowers_Data.xlsx to Moonpig_Flowers_Data (2).xlsx\n"
          ],
          "name": "stdout"
        }
      ]
    },
    {
      "cell_type": "markdown",
      "metadata": {
        "id": "xba9d3iuJIwP",
        "colab_type": "text"
      },
      "source": [
        "**Formatting imported Data.\n",
        "Splitting into 4 lists for each column.\n",
        "Then cleaning and removine the 'nan' values from the  imports**"
      ]
    },
    {
      "cell_type": "code",
      "metadata": {
        "id": "Vyn_FX8PIhMX",
        "colab_type": "code",
        "colab": {
          "base_uri": "https://localhost:8080/",
          "height": 88
        },
        "outputId": "35367084-ce2d-4a2b-c06e-68eca6ed8521"
      },
      "source": [
        "import pandas as pd\n",
        "\n",
        "df = pd.read_excel(\"Moonpig_Flowers_Data.xlsx\")\n",
        "old_urls = list(df[\"Old Urls\"].str.strip())\n",
        "new_urls= list(df[\"New Urls\"].str.strip())\n",
        "old_h1s = list(df[\"Old Url H1\"].str.strip())\n",
        "new_h1s = list(df[\"New Url H1\"].str.strip())\n",
        "\n",
        "count = 0\n",
        "new_h1s_em = new_h1s + [\"hello\" for i in range(len(old_h1s)-len(new_h1s))]\n",
        "data = []\n",
        "for unit in old_h1s:\n",
        "  data.append([unit,new_h1s_em[count]])\n",
        "  count += 1 \n",
        "print(len(old_h1s))\n",
        "print(len(new_h1s))\n",
        "print(data)\n",
        "clean_old_h1 = [h1 for h1 in old_h1s if str(h1) != \"nan\"]\n",
        "clean_new_h1 = [h1 for h1 in new_h1s if str(h1) != \"nan\"]\n"
      ],
      "execution_count": 9,
      "outputs": [
        {
          "output_type": "stream",
          "text": [
            "515\n",
            "515\n",
            "[['Bright Flowers & Plants', '25th Anniversary Cards Silver'], ['Get Well Flowers & Plants', 'Letterbox Alstroemeria Flowers & Plants'], ['Thank You Flowers & Plants', 'Happy Birthday Flower Gift Set Flowers & Plants'], [\"Mother's Day Tulips Flowers & Plants\", 'Letterbox Fairtrade Roses Flowers & Plants'], ['White Flowers & Plants', 'Rose Lily Flowers & Plants'], ['Pink Flowers & Plants', 'Rainbow Chrysanthemums Flowers & Plants'], ['Flowers & Plants', 'Sunny Germini Flowers & Plants'], ['Top Rated Flowers & Plants', 'Yellow Roses Flowers & Plants'], [\"Mother's Day Flowers & Plants\", 'Sweetness Flowers & Plants'], ['Engagement Flowers & Plants', 'Raspberry Ripple Flowers & Plants'], ['Sympathy Flowers & Plants', 'Rose Gift Bag Flowers & Plants'], ['Valentines Day Flowers & Plants', 'Luxury Prosecco Hamper Flowers & Plants'], [\"Mother's Day Letterbox Flowers & Plants\", 'Letterbox Unicorn Roses Flowers & Plants'], ['New Home Flowers & Plants', 'Pink Blush Flowers & Plants'], ['Bestsellers', 'White Pearl Flowers & Plants'], [\"Mother's Day Mixed Flowers & Plants\", 'Fairtrade Rose Sunflowers & Plants'], [\"Mother's Day Lilies Flowers & Plants\", 'Rainbow Lilies Flowers & Plants'], ['Red Flowers & Plants', 'Farmhouse Pail Flowers & Plants'], ['Rainbow Flowers & Plants', 'Greta Goose Flowers & Plants'], ['Flowers & Plants', '12 Red Roses Flowers & Plants'], ['Â£31 - Â£40', 'The May flowers & Plants'], ['Luxury Flowers & Plants', 'Gift Wrapped Lilies Flowers & Plants'], ['New Baby Flowers & Plants', 'Letterbox Lily flowers & plants'], ['Retirement Flowers & Plants', 'Luxury Happy Birthday Gift Set Flowers & Plants'], ['Letterbox Flowers & Plants', 'Luxury Rose Wine Hamper Flowers & Plants'], [\"Mother's Day Roses Flowers & Plants\", 'Tatty Teddy Giraffe Baby Hamper Flowers & Plants'], ['Over Â£40', 'Rainbow Roses Flowers & Plants'], ['Mixed Flowers & Plants', 'Feel Better Soon Gift Set Flowers & Plants'], ['Congratulations Flowers & Plants', 'Roses Lisianthus Flowers & Plants'], ['Anniversary Flowers & Plants', 'Bubblegum Chrysanthemums Flowers & Plants'], ['Â£30 And Under', 'Luxury Red Wine Hamper Flowers & Plants'], ['Birthday Flowers & Plants', 'Scented Stephanotis Planter Flowers & Plants'], ['Thinking Of You Flowers & Plants', 'Baby Girl Flowers & Plants'], ['All Plants', 'Baby Boy Flowers & Plants'], ['New Home Flowers & Plants', 'Magnolia Rose Jug Flowers & Plants'], ['Thinking Of You Flowers & Plants', 'Summer Vibrant Flowers & Plants'], [\"Mother's Day Flowers & Plants\", 'Scented Stocks Flowers & Plants'], ['Bright Flowers & Plants', 'Luxury White Wine Hamper Flowers & Plants'], ['Anniversary Flowers & Plants', 'Dozens I Love Yous Flowers & Plants'], ['White Flowers & Plants', 'Letterbox Peonies Flowers & Plants'], [\"Mother's Day Tulips Flowers & Plants\", 'Congratulations Gift Set Flowers & Plants'], [\"Mother's Day Plants\", 'Grand Sweetness Flowers & Plants'], ['Roses Flowers & Plants', 'Thank You Gift Set Flowers & Plants'], ['Get Well Flowers & Plants', 'Mayfair Flowers & Plants'], ['New Home Flowers & Plants', 'Anniversary Gift Set Flowers & Plants'], ['Thank You Flowers & Plants', 'Rainbow Gift Set Flowers & Plants'], ['Congratulations Flowers & Plants', 'Mixed Stocks Roses Flowers & Plants'], [\"Valentine's Day Roses Flowers & Plants\", 'Sunshine Basket Flowers & Plants'], ['New Home Flowers & Plants', 'Sweet William Bouquet Flowers & Plants'], ['Pink Flowers & Plants', 'Grand Rainbow Lilies Flowers & Plants'], ['Luxury Flowers & Plants', 'White Peace Lily Planter Flowers & Plants'], ['Sympathy Flowers & Plants', 'Orchid Heart flowers & plants'], ['Mixed Flowers & Plants', 'Luxury Strawberry Fields Flowers & Plants'], ['Retirement Flowers & Plants', 'Sweetness Gift Set Flowers & Plants'], ['Thank You Flowers & Plants', 'Letterbox Chilli flowers & plants'], ['Â£30 And Under', 'British Mixed Peonies Flowers & Plants'], [\"Mother's Day Mixed Flowers & Plants\", 'Letterbox Coffee flowers & plants'], [\"Mother's Day Tulips Flowers & Plants\", 'The June flowers & Plants'], ['Anniversary Flowers & Plants', '1st Time Dad Coffee Plant Gift Flowers & Plants'], ['Mixed Flowers & Plants', 'All Flowers & Plants'], [\"Mother's Day Flowers & Plants\", 'Yellow Rose Flowers & Plants'], ['Red Flowers & Plants', 'Rose Gift Bag Flowers & Plants'], [\"Mother's Day Lilies Flowers & Plants\", 'Luxury Processo Hamper Flowers & Plants'], ['All Plants', 'Greta Goose Flowers & Plants'], ['Flowers & Plants', 'Gift Wrapped White Lily flowers & plants'], ['Birthday Flowers & Plants', 'Letterbox Lily flowers & plants'], ['Congratulations Flowers & Plants', 'Luxury Rose Wine Hamper Flowers & Plants'], ['Flowers & Plants', 'Tatty Teddy Giraffe Baby Hamper Flowers & Plants'], [\"Mother's Day Flowers & Plants\", 'Luxury Red Wine Hamper Flowers & Plants'], ['Â£30 And Under', 'Scented Stephanotis Planter Flowers & Plants'], ['Top Rated Flowers & Plants', 'Magnolia Rose Jug Flowers & Plants'], ['Get Well Flowers & Plants', 'Luxury White Wine Hamper Flowers & Plants'], ['Rainbow Flowers & Plants', 'Sunshine Basket Flowers & Plants'], ['Letterbox Flowers & Plants', 'White Peace Lily Planter Flowers & Plants'], ['Get Well Flowers & Plants', 'Orchid Heart Flowers & Plants'], ['All Plants', 'Letterbox Chilli flowers & plants'], ['Over Â£40', 'Letterbox Coffee flowers & plants'], ['Anniversary Flowers & Plants', '1st Time Dad Coffee Plant Gift Flowers & Plants'], ['Thinking Of You Flowers & Plants', 'Luxury Prosecco Hamper Flowers & Plants'], [\"Mother's Day Mixed Flowers & Plants\", 'Anniversary Gift Set Flowers & Plants'], [\"Letterbox Mother's Day Flowers & Plants\", 'Luxury Red Wine Hamper Flowers & Plants'], ['Thank You Flowers & Plants', 'Red Roses Flowers & Plants'], ['All Plants', '12 Red Roses Flowers & Plants'], ['Congratulations Flowers & Plants', 'Pink Blush Flowers & Plants'], ['Flowers & Plants', 'Rose Gift Bag Flowers & Plants'], ['Pink Flowers & Plants', 'Sweetness Flowers & Plants'], ['Valentines Day Flowers & Plants', 'Letterbox Alstroemeria Flowers & Plants'], ['Bestsellers', 'Raspberry Ripple Flowers & Plants'], ['Valentines Day Flowers & Plants', 'Rose Lily Flowers & Plants'], ['Retirement Flowers & Plants', 'Yellow Roses Flowers & Plants'], ['Anniversary Flowers & Plants', 'White Pearl Flowers & Plants'], ['Sympathy Flowers & Plants', 'Fairtrade Rose Sunflowers & Plants'], ['Thank You Flowers & Plants', 'Farmhouse Pail Flowers & Plants'], ['Valentines Day Flowers & Plants', 'The May Flowers & Plants'], ['Red Flowers & Plants', 'Gift Wrapped Lilies Flowers & Plants'], [\"Mother's Day Roses Flowers & Plants\", 'Letterbox Lily flowers & plants'], ['Bright Flowers & Plants', 'Luxury Rose Wine Hamper Flowers & Plants'], ['Bestsellers', 'Rainbow Roses Flowers & Plants'], ['Sympathy Flowers & Plants', 'Roses Lisianthus Flowers & Plants'], [\"Mother's Day Lilies Flowers & Plants\", 'Magnolia Rose Jug Flowers & Plants'], ['Congratulations Flowers & Plants', 'Grand Sweetness Flowers & Plants'], ['Letterbox Flowers & Plants', 'Letterbox Peonies Flowers & Plants'], [\"Mother's Day Roses Flowers & Plants\", 'Mayfair Flowers & Plants'], ['Â£31 - Â£40', 'Rainbow Gift Set Flowers & Plants'], [\"Mother's Day Flowers & Plants\", 'Sunshine Flower Basket Flowers & Plants'], ['Thinking Of You Flowers & Plants', 'Mixed Stocks Roses Flowers & Plants'], [\"Mother's Day Lilies Flowers & Plants\", 'Sweet William Bouquet Flowers & Plants'], ['Flowers & Plants', 'Luxury Strawberry Fields Flowers & Plants'], [\"Mother's Day Letterbox Flowers & Plants\", 'Orchid Heart Flowers & Plants'], ['Flowers & Plants', 'British Mixed Peonies Flowers & Plants'], ['The Rose & Lily', 'Apology Flowers & Plants'], ['Flowers & Plants', 'Sweetness Flowers & Plants'], ['The Rose & Lily', 'Happy Birthday Flower Gift Set Flowers & Plants'], ['Luxury Flowers & Plants', 'Letterbox Alstroemeria Flowers & Plants'], [\"Mother's Day Tulips Flowers & Plants\", 'Raspberry Ripple Flowers & Plants'], ['Engagement Flowers & Plants', 'Letterbox Fairtrade Roses Flowers & Plants'], ['Â£31 - Â£40', 'Rose Lily Flowers & Plants'], ['Â£30 And Under', 'Pink Blush Flowers & Plants'], ['Retirement Flowers & Plants', 'Sunny Germini Flowers & Plants'], ['Â£31 - Â£40', 'Yellow Roses Flowers & Plants'], ['New Baby Flowers & Plants', 'Rainbow Chrysanthemums Flowers & Plants'], [\"Mother's Day Luxury Flowers & Plants\", 'Rose Gift Bag Flowers & Plants'], ['Flowers & Plants', 'Fairtrade Rose Sunflowers & Plants'], ['Engagement Flowers & Plants', 'Rainbow Lilies Flowers & Plants'], ['Birthday Flowers & Plants', 'Luxury Prosecco Hamper Flowers & Plants'], ['White Flowers & Plants', 'Farmhouse Pail Flowers & Plants'], ['Pink Flowers & Plants', 'Greta Goose Flowers & Plants'], ['Flowers & Plants', '12 Red Roses Flowers & Plants'], ['Red Flowers & Plants', 'Letterbox Unicorn Roses Flowers & Plants'], ['New Home Flowers & Plants', 'The May Flowers & Plants'], [\"Mother's Day Flowers & Plants\", 'Gift Wrapped Lilies Flowers & Plants'], ['Bestsellers', 'Letterbox Lily flowers & plants'], ['Over Â£40', 'Luxury Happy Birthday Gift Set Flowers & Plants'], ['Engagement Flowers & Plants', 'Luxury Rose Wine Hamper Flowers & Plants'], [\"Mother's Day Mixed Flowers & Plants\", 'Rainbow Roses Flowers & Plants'], ['The Rose & Lily', 'Tatty Teddy Giraffe Baby Hamper Flowers & Plants'], ['Engagement Flowers & Plants', 'Roses Lisianthus Flowers & Plants'], ['Rainbow Flowers & Plants', 'Dozens I Love Yous Flowers & Plants'], ['Thank You Flowers & Plants', 'Grand Sweetness Flowers & Plants'], ['Mixed Flowers & Plants', 'Letterbox Peonies Flowers & Plants'], ['Luxury Flowers & Plants', 'Mayfair Flowers & Plants'], ['Bright Flowers & Plants', 'Rainbow Gift Set Flowers & Plants'], ['Top Rated Flowers & Plants', 'Sunshine Basket Flowers & Plants'], ['White Flowers & Plants', 'Mixed Stocks Roses Flowers & Plants'], ['Get Well Flowers & Plants', 'Grand Rainbow Lilies Flowers & Plants'], ['Birthday Flowers & Plants', 'Sweet William Bouquet Flowers & Plants'], ['Flowers & Plants', 'White Peace Lily Planter Flowers & Plants'], ['White Flowers & Plants', 'Luxury Strawberry Fields Flowers & Plants'], ['Over Â£40', 'Orchid Heart Flowers & Plants'], ['Thinking Of You Flowers & Plants', 'Letterbox Chilli flowers & plants'], ['Indoor Plants Flowers & Plants', 'Sweetness Gift Set Flowers & Plants'], ['Motherâ€™s Day Flowers & Plants', 'British Mixed Peonies Flowers & Plants'], ['Letterbox Flowers & Plants', 'Letterbox Coffee flowers & plants'], ['Retirement Flowers & Plants', '1st Time Dad Coffee Plant Set Flowers & Plants'], ['Top Rated Flowers & Plants', 'Bubblegum Chrysanthemums Flowers & Plants'], [\"Mother's Day Roses Flowers & Plants\", 'Luxury Red Wine Hamper Flowers & Plants'], ['Motherâ€™s Day Flowers & Plants', 'Scented Stephanotis Planter Flowers & Plants'], ['New Baby Flowers & Plants', 'Magnolia Rose Jug Flowers & Plants'], [\"Mother's Day Letterbox Flowers & Plants\", 'Summer Vibrant Flowers & Plants'], ['New Baby Flowers & Plants', 'Scented Stocks Flowers & Plants'], ['Flowers & Plants', 'Luxury White Wine Hamper Flowers & Plants'], [\"Mother's Day Letterbox Flowers & Plants\", 'Christmas Flowers & Plants'], ['Pink Flowers & Plants', 'Congratulations Gift Set Flowers & Plants'], ['Rainbow Flowers & Plants', 'Farmhouse Pail Flowers & Plants'], ['Birthday Flowers & Plants', 'Luxury Prosecco Hamper Flowers & Plants'], ['£31 - £40', 'Rose Lily Flowers & Plants'], ['£31 - £40', 'Rose Gift Bag Flowers & Plants'], ['£30 And Under', 'Pink Blush Flowers & Plants'], ['£31 - £40', 'Rainbow Chrysanthemums Flowers & Plants'], ['Over £40', 'Fairtrade Rose Sunflowers & Plants'], ['Over £40', 'Sweetness Flowers & Plants'], ['MotherH1,URL\\nBright Flowers & Plants\"', 'Letterbox Unicorn Roses Flowers & Plants'], ['Flowers & Plants', 'Luxury Rose Wine Hamper Flowers & Plants'], ['Flowers & Plants', 'Raspberry Ripple Flowers & Plants'], ['The Baby Boy', 'Rainbow Gift Set Flowers & Plants'], ['The Rainbow', 'Yellow Roses Flowers & Plants'], ['The Mini Rose Tree', 'Letterbox Fairtrade Roses Flowers & Plants'], ['Flowers & Plants', 'Grand Sweetness Flowers & Plants'], ['Thank You Flowers & Plants', 'Rainbow Roses Flowers & Plants'], ['The Raspberry Ripple', 'Gift Wrapped Lilies Flowers & Plants'], [\"The Mother's Day Prosecco Hat Box\", 'Letterbox Alstroemeria Flowers & Plants'], ['Flowers & Plants', 'The May Flowers & Plants'], ['Team Bride Rose Gold Flower Girl Necklace', 'Bubblegum Chrysanthemums Flowers & Plants'], ['The Letterbox Fairtrade Roses', 'Rainbow Lilies Flowers & Plants'], [\"The Letterbox Mother's Day Collection\", 'Luxury Red Wine Hamper Flowers & Plants'], ['The Rose & Lisianthus', 'Greta Goose Flowers & Plants'], [\"Mother's Day Luxury Flowers & Plants\", '12 Red Roses Flowers & Plants'], ['The Kaleidoscope', 'Letterbox Lily flowers & plants'], ['Pink Flowers & Plants', 'Roses Lisianthus Flowers & Plants'], [\"Mother's Day Roses Flowers & Plants\", 'Magnolia Rose Jug Flowers & Plants'], ['The Rainbow', 'Summer Vibrant Flowers & Plants'], ['The Fairtrade Rose & Sunflower', 'Luxury White Wine Hamper Flowers & Plants'], ['The Raspberry Ripple', 'Scented Stocks Flowers & Plants'], [\"The Mother's Day Prosecco Hat Box\", 'Mayfair Flowers & Plants'], [\"The Letterbox Mother's Day Collection\", 'Anniversary Gift Set Flowers & Plants'], ['Letterbox Flowers & Plants', 'Sunshine Basket Flowers & Plants'], ['Thank You Flowers & Plants', 'Mixed Stocks Roses Flowers & Plants'], [\"Mother's Day Plants\", 'Grand Rainbow Lilies Flowers & Plants'], ['White Flowers & Plants', 'Sweet William Bouquet Flowers & Plants'], ['The Letterbox Pink Azalea', 'Luxury Strawberry Fields Flowers & Plants'], [\"Valentine's Day Roses Flowers & Plants\", 'Orchid Heart Flowers & Plants'], [\"Happy Mother's Day Pink and Colourful Flowers Balloon\", 'British Mixed Peonies Flowers & Plants'], ['The Sunny Germini', 'Tatty Teddy Giraffe Baby Hamper Flowers & Plants'], ['Valentineâ€™s Day Roses Care Guide', 'Greta Goose Flowers & Plants'], ['The Sweetness', 'Fairtrade Rose Sunflowers & Plants'], ['The Classic British Tulips', 'Sunny Germini Flowers & Plants'], [\"Letterbox Mother's Day Flowers & Plants\", 'Yellow Roses Flowers & Plants'], ['The Tatty Teddy Giraffe Baby Hamper', 'Gift Wrapped Lilies Flowers & Plants'], ['Team Bride Rose Gold Flower Girl Necklace', 'Magnolia Rose Jug Flowers & Plants'], ['The Fairtrade Rose & Sunflower', 'Orchid Heart Flowers & Plants'], [\"The Mother's Day\", 'Feel Better Soon Gift Set Flowers & Plants'], [\"Mother's Day Luxury Flowers & Plants\", 'Farmhouse Pail Flowers & Plants'], [\"Valentine's Day Roses Flowers & Plants\", 'Raspberry Ripple Flowers & Plants'], ['Vintage & Co Fabric & Flowers Bath flowers', 'Rainbow Chrysanthemums Flowers & Plants'], ['The Baby Girl', 'Rose Gift Bag Flowers & Plants'], ['The 30 Mixed Tulips', 'Fairtrade Rose Sunflowers & Plants'], ['The Letterbox Lily Plant', 'Pink Blush Flowers & Plants'], ['The Grand Rainbow Lilies', 'Yellow Roses Flowers & Plants'], ['Thank You Flowers & Plants', 'Bubblegum Chrysanthemums Flowers & Plants'], ['Flowers & Plants', 'Letterbox Fairtrade Roses Flowers & Plants'], [\"The Mother's Day\", 'Rose Lily Flowers & Plants'], ['The 30 Mixed Tulips', 'Letterbox Alstroemeria Flowers & Plants'], ['Roses Flowers & Plants', 'Summer Vibrant Flowers & Plants'], ['Indoor Flowers & Plants', 'White Pearl Flowers & Plants'], [\"Letterbox Mother's Day Flowers & Plants\", 'Gift Wrapped Lilies Flowers & Plants'], ['The White Pearl', 'Sweetness Flowers & Plants'], ['The 12 Red Roses', 'Greta Goose Flowers & Plants'], [\"The Mother's Day Tulips\", 'Scented Stocks Flowers & Plants'], ['Vintage & Co Fabric & Flowers Bath flowers', 'Sweet William Bouquet Flowers & Plants'], ['The Deluxe Rose & Peony', 'Luxury White Wine Hamper Flowers & Plants'], ['The Letterbox Mixed Alstroemeria', 'Roses Lisianthus Flowers & Plants'], ['What To Expect From Your Moonpig Flowers', 'Luxury Rose Wine Hamper Flowers & Plants'], ['Vintage & Co Fabric & Flowers Bath flowers', 'Magnolia Rose Jug Flowers & Plants'], ['The Letterbox Lily Plant', 'The May Flowers & Plants'], ['The Farmhouse Pail', 'Mixed Stocks Roses Flowers & Plants'], [\"Mother's Day Tulips Flowers & Plants\", 'Rainbow Lilies Flowers & Plants'], ['The Rose & Lisianthus', 'Grand Rainbow Lilies Flowers & Plants'], ['Roses Flowers & Plants', 'Rainbow Roses Flowers & Plants'], ['The Luxury Rose Wine Hamper', 'Grand Sweetness Flowers & Plants'], ['White Flowers & Plants', 'Letterbox Lily flowers & plants'], ['The Sweetness', 'Scented Stephanotis Planter Flowers & Plants'], [\"Mother's Day Plants\", '12 Red Roses Flowers & Plants'], ['The Orchid Heart', 'Mayfair Flowers & Plants'], ['Thank You Flowers & Plants', 'Sunshine Basket Flowers & Plants'], ['The Yellow Rose Duo', 'White Peace Lily Planter Flowers & Plants'], [\"Letterbox Mother's Day Flowers & Plants\", 'Orchid Heart Flowers & Plants'], [\"Mother's Day Plants\", 'British Mixed Peonies Flowers & Plants'], [\"Valentine's Day Roses Flowers & Plants\", 'The June Flowers & Plants'], ['The 12 Red Roses', 'Leaving Flowers & Plants'], ['The Farmhouse Pail', 'Letterbox Alstroemeria Flowers & Plants'], ['The Sweetness', 'Letterbox Unicorn Roses Flowers & Plants'], ['The Kaleidoscope', 'Letterbox Fairtrade Roses Flowers & Plants'], ['The Luxury White Wine Hamper', 'Letterbox Lily flowers & plants'], ['The Orchid Heart', 'Letterbox Peonies Flowers & Plants'], [\"Make a DIY Flower Candle for Valentine's Day\", 'Letterbox Coffee flowers & plants'], ['Indoor Plants Flowers & Plants', 'Letterbox Chilli flowers & plants'], ['The Letterbox Mixed Alstroemeria', 'Letterbox Alstroemeria Flowers & Plants'], ['Pink Flowers & Plants', 'Letterbox Fairtrade Roses Flowers & Plants'], ['The Yellow Rose Duo', 'Letterbox Unicorn Roses Flowers & Plants'], ['The Pink Blush', 'Letterbox Lily flowers & plants'], ['The Strawberry Fields', 'Letterbox Coffee flowers & plants'], ['Flower Guides', 'Letterbox Chilli flowers & plants'], ['The Letterbox Lily Plant', 'Luxury Prosecco Hamper Flowers & Plants'], ['The Tatty Teddy Giraffe Baby Hamper', 'Luxury Birthday Gift Set Flowers & Plants'], ['The Classic British Tulips', 'Luxury Rose Wine Hamper Flowers & Plants'], ['The Deluxe Rose & Peony', 'Luxury Strawberry Fields Flowers & Plants'], ['The Pink Blush', 'Mayfair Flowers & Plants'], [\"The Mother's Day Tulips\", 'Luxury Red Wine Hamper Flowers & Plants'], [\"Supersize Happy Mother's Day Butterfly and Flower Balloon\", 'Luxury White Wine Hamper Flowers & Plants'], [\"Supersize Happy Mother's Day Butterfly and Flower Balloon\", 'Sweetness Flowers & Plants'], ['The Letterbox Unicorn Roses', 'Letterbox Lily flowers & plants'], ['The Sunny Germini', 'Luxury Prosecco Hamper Flowers & Plants'], ['The Rainbow Roses', 'Rainbow Lilies Flowers & Plants'], ['White Flowers & Plants', 'Greta Goose Flowers & Plants'], [\"The Letterbox Mother's Day Collection\", 'Sweetness Gift Set Flowers & Plants'], ['Indoor Plants Flowers & Plants', 'Luxury Strawberry Fields Flowers & Plants'], ['The Orchid Heart', 'Yellow Roses Flowers & Plants'], ['The Grand Sweetness', 'Rose Gift Bag Flowers & Plants'], ['The Mini Rose Tree', 'Luxury Rose Wine Hamper Flowers & Plants'], ['The Letterbox Fairtrade Roses', 'Luxury Red Wine Hamper Flowers & Plants'], ['Indoor Plants Flowers & Plants', 'Scented Stephanotis Planter Flowers & Plants'], ['Roses Flowers & Plants', 'Luxury White Wine Hamper Flowers & Plants'], ['The Raspberry Ripple', 'Orchid Heart Flowers & Plants'], ['The Greta Goose', 'Tatty Teddy Giraffe Baby Hamper Flowers & Plants'], ['The Tatty Teddy Giraffe Baby Hamper', 'Baby Boy Flowers & Plants'], ['The Letterbox Mixed Alstroemeria', 'Baby Girl Flowers & Plants'], ['The Afternoon Tea', 'Congratulations Gift Set Flowers & Plants'], [\"The Luxury Mother's Day\", 'Luxury Prosecco Hamper Flowers & Plants'], ['The Rainbow Roses', 'Greta Goose Flowers & Plants'], [\"Mother's Day Lilies Flowers & Plants\", 'Flowers & Plants For New Home'], [\"The Mother's Day Tulips\", 'New Home Flowers & Plants'], ['The 50 Mixed Tulips', 'Flowers & Plants For Retirement'], ['The Grand Sweetness', 'Romantic Flowers & Plants'], ['The Strawberry Fields', 'White Pearl Flowers & Plants'], ['Flowers & Plants', 'Rose Lily Flowers & Plants'], ['The Letterbox Pink Azalea', 'Gift Wrapped Lilies Flowers & Plants'], ['Flowers & Plants', 'Yellow Roses Flowers & Plants'], ['The Baby Girl', 'Scented Stephanotis Planter Flowers & Plants'], ['The Mayfair', 'Grand Sweetness Flowers & Plants'], ['The 50 Mixed Tulips', 'Mayfair Flowers & Plants'], [\"Mother's Day Spring Flowers & Plants\", 'White Peace Lily Planter Flowers & Plants'], [\"Mother's Day Luxury Flowers & Plants\", 'Luxury Prosecco Hamper Flowers & Plants'], ['The 12 Red Roses', 'Thank You Gift Set Flowers & Plants'], ['The Luxury White Wine Hamper', 'Rose Gift Bag Flowers & Plants'], ['The Classic British Tulips', 'Farmhouse Pail Flowers & Plants'], [\"Make a DIY Flower Candle for Valentine's Day\", 'Sunny Germini Flowers & Plants'], ['The Luxury Rose Wine Hamper', 'Yellow Roses Flowers & Plants'], ['The White Pearl', 'Rose Lily Flowers & Plants'], [\"Happy Mother's Day Pink and Colourful Flowers Balloon\", 'Pink Blush Flowers & Plants'], ['Flower Guides', 'Fairtrade Rose Sunflowers & Plants'], ['The 30 Mixed Tulips', 'Gift Wrapped Lilies Flowers & Plants'], ['The Mum Rose Tins', 'Sweetness Flowers & Plants'], [\"The Luxury Mother's Day\", 'Raspberry Ripple Flowers & Plants'], ['The Letterbox Pink Azalea', 'Letterbox Unicorn Roses Flowers & Plants'], ['Team Bride Rose Gold Flower Girl Necklace', 'Letterbox Alstroemeria Flowers & Plants'], ['The White Pearl', 'The May Flowers & Plants'], ['The Letterbox Unicorn Roses', 'Summer Vibrant Flowers & Plants'], ['Roses Flowers & Plants', 'Luxury Red Wine Hamper Flowers & Plants'], ['The Mum Rose Tins', 'Luxury White Wine Hamper Flowers & Plants'], ['Pink Flowers & Plants', 'Greta Goose Flowers & Plants'], [\"Mother's Day Flowers & Plants\", 'Rainbow Gift Set Flowers & Plants'], ['The Sunny Germini', 'Rainbow Lilies Flowers & Plants'], ['The Farmhouse Pail', 'Rainbow Roses Flowers & Plants'], ['What To Expect From Your Moonpig Flowers', 'Letterbox Fairtrade Roses Flowers & Plants'], ['The Luxury Red Wine Hamper', 'Magnolia Rose Jug Flowers & Plants'], ['The Yellow Rose Duo', 'Scented Stocks Flowers & Plants'], ['The Fairtrade Rose & Sunflower', 'Letterbox Lily flowers & plants'], ['The Mayfair', 'White Pearl Flowers & Plants'], ['The Rainbow Lilies', 'Scented Stephanotis Planter Flowers & Plants'], ['The Rainbow Lilies', 'Grand Rainbow Lilies Flowers & Plants'], ['The Mayfair', 'Bubblegum Chrysanthemums Flowers & Plants'], [\"Supersize Happy Mother's Day Butterfly and Flower Balloon\", 'Roses Lisianthus Flowers & Plants'], ['The Baby Boy', 'Grand Sweetness Flowers & Plants'], ['The Rainbow', 'Letterbox Peonies Flowers & Plants'], ['The Grand Sweetness', 'Mayfair Flowers & Plants'], ['The Baby Boy', 'Sunshine Basket Flowers & Plants'], ['The Letterbox Unicorn Roses', 'Mixed Stocks Roses Flowers & Plants'], ['The Mum Rose Tins', 'Sweet William Bouquet Flowers & Plants'], ['The Grand Rainbow Lilies', 'White Peace Lily Planter Flowers & Plants'], ['The Baby Girl', 'Orchid Heart Flowers & Plants'], ['Valentineâ€™s Day Roses Care Guide', 'Luxury Strawberry Fields Flowers & Plants'], ['The Luxury Red Wine Hamper', 'Letterbox Chilli flowers & plants'], ['The Greta Goose', 'British Mixed Peonies Flowers & Plants'], [\"Mother's Day Flowers & Plants\", 'Letterbox Coffee flowers & plants'], ['The Afternoon Tea', '1st Time Dad Coffee Plant Gift Flowers & Plants'], ['The 50 Mixed Tulips', 'The June Flowers & Plants'], ['Flowers & Plants', 'Farmhouse Pail Flowers & Plants'], ['The Letterbox Fairtrade Roses', 'Sweetness Flowers & Plants'], ['The Luxury Red Wine Hamper', 'Congratulations Flowers & Plants'], ['The Grand Rainbow Lilies', 'Rose Lily Flowers & Plants'], [\"Mother's Day Flowers & Plants\", 'Fairtrade Rose Sunflowers & Plants'], ['The Luxury White Wine Hamper', 'Yellow Roses Flowers & Plants'], [\"The Mother's Day\", 'White Pearl Flowers & Plants'], ['Flowers & Plants', 'Letterbox Alstroemeria Flowers & Plants'], ['The Rainbow Lilies', 'Letterbox Unicorn Roses Flowers & Plants'], ['The Luxury Rose Wine Hamper', 'Gift Wrapped Lilies Flowers & Plants'], ['The Pink Blush', 'Feel Better Soon Gift Set Flowers & Plants'], ['Roses Flowers & Plants', 'Bubblegum Chrysanthemums Flowers & Plants'], ['The Rainbow Roses', 'Letterbox Fairtrade Roses Flowers & Plants'], ['The Rose & Lisianthus', '12 Red Roses Flowers & Plants'], ['The Strawberry Fields', 'Rainbow Roses Flowers & Plants'], [\"The Luxury Mother's Day\", 'Summer Vibrant Flowers & Plants'], ['The Greta Goose', 'The May Flowers & Plants'], [\"Happy Mother's Day Pink and Colourful Flowers Balloon\", 'Scented Stocks Flowers & Plants'], ['Vintage & Co Fabric & Flowers Bath flowers', 'Dozens I Love Yous Flowers & Plants'], ['Roses Flowers & Plants', 'Scented Stephanotis Planter Flowers & Plants'], ['Anniversary Flowers & Plants', 'Sweet William Bouquet Flowers & Plants'], [\"Valentine's Day Roses Flowers & Plants\", 'Grand Sweetness Flowers & Plants'], ['Roses Flowers & Plants', 'Letterbox Lily flowers & plants'], ['Thinking Of You Flowers & Plants', 'Sunshine Basket Flowers & Plants'], ['Bright Flowers Wedding Invitation', 'Mixed Stocks Roses Flowers & Plants'], ['Thinking Of You Flowers & Plants', 'Luxury Strawberry Fields Flowers & Plants'], ['Engagement Flowers & Plants', 'Letterbox Peonies Flowers & Plants'], ['New Home Flowers & Plants', 'Roses Lisianthus Flowers & Plants'], ['Flowers & Plants', 'Mayfair Flowers & Plants'], ['Congratulations Flowers & Plants', 'British Mixed Peonies Flowers & Plants'], ['Blue Leafy Flowers Wedding Invitation', 'White Peace Lily Planter Flowers & Plants'], ['Birthday Flowers & Plants', 'The June Flowers & Plants'], ['Thinking Of You Flowers & Plants', 'Valentines Day Flowers & Plants'], ['Thank You Flowers & Plants', 'Get Well Flowers & Plants'], ['Valentineâ€™s Day Flowers & Classic Red Roses', 'Bright Flowers & Plants'], ['The 24 Red Roses', 'Anniversary flowers & plants'], ['Retirement Flowers & Plants', 'Apology flowers & plants'], ['Birthday Flowers & Plants', 'Baby flowers & plants'], [\"Mother's Day Flowers & Plants\", 'Birthday flowers & plants'], ['Congratulations Flowers & Plants', 'Congratulations flowers & plants'], ['Valentineâ€™s Day Flowers & Classic Red Roses', 'Get Well  Soon flowers & plants'], ['Red And Yellow Flowers Wedding Invitation', 'Good Luck flowers & plants'], ['Flowers & Plants', 'New Home flowers & plants'], ['Grey Flowers Photo Upload Christening Invitation', 'Leaving flowers & plants'], ['New Home Flowers & Plants', 'Retirement flowers & plants'], ['The Premium Lilacs', 'Romantic flowers & plants'], ['Engagement Flowers & Plants', 'Sympathy flowers & plants'], [\"Mother's Day Flowers & Plants\", 'Thank You Flowers & Plants'], ['Roses Flowers & Plants', 'New Job flowers & plants'], ['Blue Leafy Flowers Wedding Invitation', 'Thinking of You flowers & plants'], ['Get Well Flowers & Plants', 'Letterbox Flowers & Plants'], ['Retirement Flowers & Plants', 'Luxury Flowers & Plants'], [\"Mother's Day Flowers & Plants\", \"Mother's Day flowers & plants\"], ['Grey Flowers Photo Upload Christening Invitation', 'Christmas flowers & plants'], ['Grey Flowers Photo Upload Christening Invitation', \"Father's Day flowers & plants\"], ['Birthday Flowers & Plants', 'Easter  flowers & plants'], ['Roses Flowers & Plants', 'Roses flowers & plants'], ['Retirement Flowers & Plants', 'Lilies flowers & plants'], ['New Home Flowers & Plants', 'Gerberas flowers & plants'], ['The Premium Lilacs', 'Alstroemeria flowers & plants'], ['Anniversary Flowers & Plants', 'Carnations flowers & plants'], ['Anniversary Flowers & Plants', 'Freesias flowers & plants'], ['Bright Flowers Wedding Invitation', 'Sunflowers plants'], ['Get Well Flowers & Plants', 'Chrysanthemums flowers & plants'], ['Indoor Flowers & Plants', 'Tulips flowers & plants'], ['Thank You Flowers & Plants', 'Spring Flowers & Plants'], ['Red And Yellow Flowers Wedding Invitation', 'Summer Flowers & Plants'], ['Letterbox Flowers & Plants', 'Autumn Flowers & Plants'], ['Flowers & Plants', 'Winter Flowers & Plants'], ['Indoor Flowers & Plants', 'Personalised Gifts flowers & plants'], [\"Valentine's Day Luxury Flowers & Plants\", 'Yellow Flowers & Plants'], ['Get Well Flowers & Plants', 'Bright Flowers & Plants'], ['Blue Leafy Flowers Wedding Invitation', 'Rainbow Flowers & Plants'], ['Contemporary Flowers & Plants', 'Red Flowers & Plants'], ['All Plants', 'Pink Flowers & Plants'], ['Letterbox Flowers & Plants', 'Assorted flowers & plants'], ['Engagement Flowers & Plants', 'Scented flowers & plants'], ['The 24 Red Roses', 'Fairtrade flowers & plants'], ['Thank You Flowers & Plants', 'British flowers & plants'], ['Red Roses Flowers & Plants', 'Long Lasting flowers & plants'], ['Congratulations Flowers & Plants', 'Peonies flowers & plants'], ['Roses Flowers & Plants', 'Letterbox'], ['Roses Flowers & Plants', 'Letterbox Flowers'], ['Red Roses Flowers & Plants', 'Letterbox plants'], [\"Mother's Day Spring Flowers & Plants\", 'Luxury Flowers & Plants'], [\"Mother's Day Tulips Flowers & Plants\", 'new babv flowers & plants'], ['Bright Neon Flowers Wedding Invitation', 'New Home flowers & plants'], [\"Valentine's Day Luxury Flowers & Plants\", 'best sellers flowers & plants'], ['Roses Flowers & Plants', 'White flowers & plants'], ['Pretty Flowers 60Th Birthday Party Invitation', 'Bouquets flowers & plants'], ['Contemporary Flowers & Plants', 'Flowers with Vase flowers & plants'], ['Red Roses Flowers & Plants', 'Indoor Plants flowers & plants'], [\"Mother's Day Flowers & Plants\", 'Outdoor Plants flowers & plants'], [\"Mother's Day Lilies Flowers & Plants\", 'Gift Sets flowers & plants'], ['Thank You Flowers & Plants', 'Bouquet of the Month flowers & plants'], [\"Mother's Day Flowers & Plants\", 'Best Sellers flowers & plants'], [\"Mother's Day Tulips Flowers & Plants\", 'New flowers & plants'], [\"Valentine's Day Roses Flowers & Plants\", 'Plant of the Month flowers & plants'], [\"Mother's Day Roses Flowers & Plants\", nan], [\"Valentine's Day Luxury Flowers & Plants\", nan], ['Contemporary Flowers & Plants', nan], [\"Mother's Day Spring Flowers & Plants\", nan], [\"Mother's Day Lilies Flowers & Plants\", nan], [\"Valentine's Day Flowers Under Â£30\", nan], ['Bright Neon Flowers Wedding Rehearsal Dinner Invitation', nan], ['Flowers & Plants', nan], ['Bright Neon Flowers Wedding Rehearsal Dinner Invitation', nan], [\"Valentine's Day Roses Flowers & Plants\", nan], [\"Mother's Day Tulips Flowers & Plants\", nan], [\"Valentine's Day Red Roses Flowers & Plants\", nan], [\"Mother's Day Lilies Flowers & Plants\", nan], [\"Mother's Day Roses Flowers & Plants\", nan], [\"Mother's Day Roses Flowers & Plants\", nan], [\"Valentine's Day Flowers From Â£30 To Â£50\", nan], ['Thank You Flowers & Plants', nan], ['Roses Flowers & Plants', nan], ['Pretty Flowers 60Th Birthday Party Invitation', nan], [\"Mother's Day Spring Flowers & Plants\", nan], [\"Valentine's Day Flowers & Plants\", nan], ['Contemporary Flowers & Plants', nan], ['Bright Neon Flowers Wedding Invitation', nan], ['Red Roses Flowers & Plants', nan], ['Pretty Flowers 60Th Birthday Party Invitation', nan], ['Thank You Flowers & Plants', nan], [\"Valentine's Day Roses Flowers & Plants\", nan], [\"Valentine's Day Flowers Over Â£50\", nan], [\"Valentine's Day Luxury Flowers & Plants\", nan], ['All Plants', nan], ['All Plants', nan], ['Red Roses Flowers & Plants', nan], ['Flowers & Plants', nan], ['Red Roses Flowers & Plants', nan], ['Lilac Banner And Flowers Photo Upload Birthday Party Invitation', nan], ['Flowers & Plants', nan], [\"Valentine's Day Flowers Over Â£50\", nan], [\"Valentine's Day Flowers Under Â£30\", nan], ['Flowers & Plants', nan], [\"Valentine's Day Flowers From Â£30 To Â£50\", nan], [\"Valentine's Day Flowers Over Â£50\", nan], [\"Valentine's Day Flowers Over Â£50\", nan], ['Red Roses Flowers & Plants', nan], [\"Valentine's Day Flowers From Â£30 To Â£50\", nan], ['Red Roses Flowers & Plants', nan], [\"Valentine's Day Flowers Under Â£30\", nan], ['Flowers & Plants', nan], [\"Valentine's Day Flowers Under Â£30\", nan], ['Lilac Banner And Flowers Photo Upload Birthday Party Invitation', nan], [\"Valentine's Day Flowers From Â£30 To Â£50\", nan], ['Grey Flowers 1St Anniversary Party Invitation', nan], ['Grey Flowers 1St Anniversary Party Invitation', nan], ['Coral Flowers Personalised 2Nd Anniversary Party Invitation', nan], ['Silver Flowers 10Th Anniversary Party Invitation', nan], ['Coral Flowers Personalised 2Nd Anniversary Party Invitation', nan], ['Silver Flowers 10Th Anniversary Party Invitation', nan], ['Plum And Silver Flowers 25Th Anniversary Party Invitation', nan], ['Plum And Silver Flowers 25Th Anniversary Party Invitation', nan], ['Plum And Silver Flowers 25Th Anniversary Party Invitation', nan], ['Have a wonderful Birthday - Unicorn flowers', nan], ['Have a wonderful Birthday - Unicorn flowers', nan], ['Have a wonderful Birthday - Unicorn flowers', nan], ['Have a wonderful Birthday - Unicorn flowers', nan], ['Have a wonderful Birthday - Unicorn flowers', nan], ['Have a wonderful Birthday - Unicorn flowers', nan], ['Grey And Red Flowers 40Th Anniversary Party Invitation', nan], ['Grey And Red Flowers 40Th Anniversary Party Invitation', nan], ['Sage Green And Silver Flowers 30Th Anniversary Party Invitation', nan], ['Sage Green And Silver Flowers 30Th Anniversary Party Invitation', nan], ['Flowered Skull Rock & Roll Party Invitation', nan], ['Flowered Skull Rock & Roll Party Invitation', nan]]\n"
          ],
          "name": "stdout"
        }
      ]
    },
    {
      "cell_type": "code",
      "metadata": {
        "id": "lOX5-7IMI2ZY",
        "colab_type": "code",
        "colab": {
          "base_uri": "https://localhost:8080/",
          "height": 71
        },
        "outputId": "590046da-ed02-445e-c71a-deda93eebc37"
      },
      "source": [
        "print(new_h1s)\n",
        "print(clean_new_h1)"
      ],
      "execution_count": 11,
      "outputs": [
        {
          "output_type": "stream",
          "text": [
            "['25th Anniversary Cards Silver', 'Letterbox Alstroemeria Flowers & Plants', 'Happy Birthday Flower Gift Set Flowers & Plants', 'Letterbox Fairtrade Roses Flowers & Plants', 'Rose Lily Flowers & Plants', 'Rainbow Chrysanthemums Flowers & Plants', 'Sunny Germini Flowers & Plants', 'Yellow Roses Flowers & Plants', 'Sweetness Flowers & Plants', 'Raspberry Ripple Flowers & Plants', 'Rose Gift Bag Flowers & Plants', 'Luxury Prosecco Hamper Flowers & Plants', 'Letterbox Unicorn Roses Flowers & Plants', 'Pink Blush Flowers & Plants', 'White Pearl Flowers & Plants', 'Fairtrade Rose Sunflowers & Plants', 'Rainbow Lilies Flowers & Plants', 'Farmhouse Pail Flowers & Plants', 'Greta Goose Flowers & Plants', '12 Red Roses Flowers & Plants', 'The May flowers & Plants', 'Gift Wrapped Lilies Flowers & Plants', 'Letterbox Lily flowers & plants', 'Luxury Happy Birthday Gift Set Flowers & Plants', 'Luxury Rose Wine Hamper Flowers & Plants', 'Tatty Teddy Giraffe Baby Hamper Flowers & Plants', 'Rainbow Roses Flowers & Plants', 'Feel Better Soon Gift Set Flowers & Plants', 'Roses Lisianthus Flowers & Plants', 'Bubblegum Chrysanthemums Flowers & Plants', 'Luxury Red Wine Hamper Flowers & Plants', 'Scented Stephanotis Planter Flowers & Plants', 'Baby Girl Flowers & Plants', 'Baby Boy Flowers & Plants', 'Magnolia Rose Jug Flowers & Plants', 'Summer Vibrant Flowers & Plants', 'Scented Stocks Flowers & Plants', 'Luxury White Wine Hamper Flowers & Plants', 'Dozens I Love Yous Flowers & Plants', 'Letterbox Peonies Flowers & Plants', 'Congratulations Gift Set Flowers & Plants', 'Grand Sweetness Flowers & Plants', 'Thank You Gift Set Flowers & Plants', 'Mayfair Flowers & Plants', 'Anniversary Gift Set Flowers & Plants', 'Rainbow Gift Set Flowers & Plants', 'Mixed Stocks Roses Flowers & Plants', 'Sunshine Basket Flowers & Plants', 'Sweet William Bouquet Flowers & Plants', 'Grand Rainbow Lilies Flowers & Plants', 'White Peace Lily Planter Flowers & Plants', 'Orchid Heart flowers & plants', 'Luxury Strawberry Fields Flowers & Plants', 'Sweetness Gift Set Flowers & Plants', 'Letterbox Chilli flowers & plants', 'British Mixed Peonies Flowers & Plants', 'Letterbox Coffee flowers & plants', 'The June flowers & Plants', '1st Time Dad Coffee Plant Gift Flowers & Plants', 'All Flowers & Plants', 'Yellow Rose Flowers & Plants', 'Rose Gift Bag Flowers & Plants', 'Luxury Processo Hamper Flowers & Plants', 'Greta Goose Flowers & Plants', 'Gift Wrapped White Lily flowers & plants', 'Letterbox Lily flowers & plants', 'Luxury Rose Wine Hamper Flowers & Plants', 'Tatty Teddy Giraffe Baby Hamper Flowers & Plants', 'Luxury Red Wine Hamper Flowers & Plants', 'Scented Stephanotis Planter Flowers & Plants', 'Magnolia Rose Jug Flowers & Plants', 'Luxury White Wine Hamper Flowers & Plants', 'Sunshine Basket Flowers & Plants', 'White Peace Lily Planter Flowers & Plants', 'Orchid Heart Flowers & Plants', 'Letterbox Chilli flowers & plants', 'Letterbox Coffee flowers & plants', '1st Time Dad Coffee Plant Gift Flowers & Plants', 'Luxury Prosecco Hamper Flowers & Plants', 'Anniversary Gift Set Flowers & Plants', 'Luxury Red Wine Hamper Flowers & Plants', 'Red Roses Flowers & Plants', '12 Red Roses Flowers & Plants', 'Pink Blush Flowers & Plants', 'Rose Gift Bag Flowers & Plants', 'Sweetness Flowers & Plants', 'Letterbox Alstroemeria Flowers & Plants', 'Raspberry Ripple Flowers & Plants', 'Rose Lily Flowers & Plants', 'Yellow Roses Flowers & Plants', 'White Pearl Flowers & Plants', 'Fairtrade Rose Sunflowers & Plants', 'Farmhouse Pail Flowers & Plants', 'The May Flowers & Plants', 'Gift Wrapped Lilies Flowers & Plants', 'Letterbox Lily flowers & plants', 'Luxury Rose Wine Hamper Flowers & Plants', 'Rainbow Roses Flowers & Plants', 'Roses Lisianthus Flowers & Plants', 'Magnolia Rose Jug Flowers & Plants', 'Grand Sweetness Flowers & Plants', 'Letterbox Peonies Flowers & Plants', 'Mayfair Flowers & Plants', 'Rainbow Gift Set Flowers & Plants', 'Sunshine Flower Basket Flowers & Plants', 'Mixed Stocks Roses Flowers & Plants', 'Sweet William Bouquet Flowers & Plants', 'Luxury Strawberry Fields Flowers & Plants', 'Orchid Heart Flowers & Plants', 'British Mixed Peonies Flowers & Plants', 'Apology Flowers & Plants', 'Sweetness Flowers & Plants', 'Happy Birthday Flower Gift Set Flowers & Plants', 'Letterbox Alstroemeria Flowers & Plants', 'Raspberry Ripple Flowers & Plants', 'Letterbox Fairtrade Roses Flowers & Plants', 'Rose Lily Flowers & Plants', 'Pink Blush Flowers & Plants', 'Sunny Germini Flowers & Plants', 'Yellow Roses Flowers & Plants', 'Rainbow Chrysanthemums Flowers & Plants', 'Rose Gift Bag Flowers & Plants', 'Fairtrade Rose Sunflowers & Plants', 'Rainbow Lilies Flowers & Plants', 'Luxury Prosecco Hamper Flowers & Plants', 'Farmhouse Pail Flowers & Plants', 'Greta Goose Flowers & Plants', '12 Red Roses Flowers & Plants', 'Letterbox Unicorn Roses Flowers & Plants', 'The May Flowers & Plants', 'Gift Wrapped Lilies Flowers & Plants', 'Letterbox Lily flowers & plants', 'Luxury Happy Birthday Gift Set Flowers & Plants', 'Luxury Rose Wine Hamper Flowers & Plants', 'Rainbow Roses Flowers & Plants', 'Tatty Teddy Giraffe Baby Hamper Flowers & Plants', 'Roses Lisianthus Flowers & Plants', 'Dozens I Love Yous Flowers & Plants', 'Grand Sweetness Flowers & Plants', 'Letterbox Peonies Flowers & Plants', 'Mayfair Flowers & Plants', 'Rainbow Gift Set Flowers & Plants', 'Sunshine Basket Flowers & Plants', 'Mixed Stocks Roses Flowers & Plants', 'Grand Rainbow Lilies Flowers & Plants', 'Sweet William Bouquet Flowers & Plants', 'White Peace Lily Planter Flowers & Plants', 'Luxury Strawberry Fields Flowers & Plants', 'Orchid Heart Flowers & Plants', 'Letterbox Chilli flowers & plants', 'Sweetness Gift Set Flowers & Plants', 'British Mixed Peonies Flowers & Plants', 'Letterbox Coffee flowers & plants', '1st Time Dad Coffee Plant Set Flowers & Plants', 'Bubblegum Chrysanthemums Flowers & Plants', 'Luxury Red Wine Hamper Flowers & Plants', 'Scented Stephanotis Planter Flowers & Plants', 'Magnolia Rose Jug Flowers & Plants', 'Summer Vibrant Flowers & Plants', 'Scented Stocks Flowers & Plants', 'Luxury White Wine Hamper Flowers & Plants', 'Christmas Flowers & Plants', 'Congratulations Gift Set Flowers & Plants', 'Farmhouse Pail Flowers & Plants', 'Luxury Prosecco Hamper Flowers & Plants', 'Rose Lily Flowers & Plants', 'Rose Gift Bag Flowers & Plants', 'Pink Blush Flowers & Plants', 'Rainbow Chrysanthemums Flowers & Plants', 'Fairtrade Rose Sunflowers & Plants', 'Sweetness Flowers & Plants', 'Letterbox Unicorn Roses Flowers & Plants', 'Luxury Rose Wine Hamper Flowers & Plants', 'Raspberry Ripple Flowers & Plants', 'Rainbow Gift Set Flowers & Plants', 'Yellow Roses Flowers & Plants', 'Letterbox Fairtrade Roses Flowers & Plants', 'Grand Sweetness Flowers & Plants', 'Rainbow Roses Flowers & Plants', 'Gift Wrapped Lilies Flowers & Plants', 'Letterbox Alstroemeria Flowers & Plants', 'The May Flowers & Plants', 'Bubblegum Chrysanthemums Flowers & Plants', 'Rainbow Lilies Flowers & Plants', 'Luxury Red Wine Hamper Flowers & Plants', 'Greta Goose Flowers & Plants', '12 Red Roses Flowers & Plants', 'Letterbox Lily flowers & plants', 'Roses Lisianthus Flowers & Plants', 'Magnolia Rose Jug Flowers & Plants', 'Summer Vibrant Flowers & Plants', 'Luxury White Wine Hamper Flowers & Plants', 'Scented Stocks Flowers & Plants', 'Mayfair Flowers & Plants', 'Anniversary Gift Set Flowers & Plants', 'Sunshine Basket Flowers & Plants', 'Mixed Stocks Roses Flowers & Plants', 'Grand Rainbow Lilies Flowers & Plants', 'Sweet William Bouquet Flowers & Plants', 'Luxury Strawberry Fields Flowers & Plants', 'Orchid Heart Flowers & Plants', 'British Mixed Peonies Flowers & Plants', 'Tatty Teddy Giraffe Baby Hamper Flowers & Plants', 'Greta Goose Flowers & Plants', 'Fairtrade Rose Sunflowers & Plants', 'Sunny Germini Flowers & Plants', 'Yellow Roses Flowers & Plants', 'Gift Wrapped Lilies Flowers & Plants', 'Magnolia Rose Jug Flowers & Plants', 'Orchid Heart Flowers & Plants', 'Feel Better Soon Gift Set Flowers & Plants', 'Farmhouse Pail Flowers & Plants', 'Raspberry Ripple Flowers & Plants', 'Rainbow Chrysanthemums Flowers & Plants', 'Rose Gift Bag Flowers & Plants', 'Fairtrade Rose Sunflowers & Plants', 'Pink Blush Flowers & Plants', 'Yellow Roses Flowers & Plants', 'Bubblegum Chrysanthemums Flowers & Plants', 'Letterbox Fairtrade Roses Flowers & Plants', 'Rose Lily Flowers & Plants', 'Letterbox Alstroemeria Flowers & Plants', 'Summer Vibrant Flowers & Plants', 'White Pearl Flowers & Plants', 'Gift Wrapped Lilies Flowers & Plants', 'Sweetness Flowers & Plants', 'Greta Goose Flowers & Plants', 'Scented Stocks Flowers & Plants', 'Sweet William Bouquet Flowers & Plants', 'Luxury White Wine Hamper Flowers & Plants', 'Roses Lisianthus Flowers & Plants', 'Luxury Rose Wine Hamper Flowers & Plants', 'Magnolia Rose Jug Flowers & Plants', 'The May Flowers & Plants', 'Mixed Stocks Roses Flowers & Plants', 'Rainbow Lilies Flowers & Plants', 'Grand Rainbow Lilies Flowers & Plants', 'Rainbow Roses Flowers & Plants', 'Grand Sweetness Flowers & Plants', 'Letterbox Lily flowers & plants', 'Scented Stephanotis Planter Flowers & Plants', '12 Red Roses Flowers & Plants', 'Mayfair Flowers & Plants', 'Sunshine Basket Flowers & Plants', 'White Peace Lily Planter Flowers & Plants', 'Orchid Heart Flowers & Plants', 'British Mixed Peonies Flowers & Plants', 'The June Flowers & Plants', 'Leaving Flowers & Plants', 'Letterbox Alstroemeria Flowers & Plants', 'Letterbox Unicorn Roses Flowers & Plants', 'Letterbox Fairtrade Roses Flowers & Plants', 'Letterbox Lily flowers & plants', 'Letterbox Peonies Flowers & Plants', 'Letterbox Coffee flowers & plants', 'Letterbox Chilli flowers & plants', 'Letterbox Alstroemeria Flowers & Plants', 'Letterbox Fairtrade Roses Flowers & Plants', 'Letterbox Unicorn Roses Flowers & Plants', 'Letterbox Lily flowers & plants', 'Letterbox Coffee flowers & plants', 'Letterbox Chilli flowers & plants', 'Luxury Prosecco Hamper Flowers & Plants', 'Luxury Birthday Gift Set Flowers & Plants', 'Luxury Rose Wine Hamper Flowers & Plants', 'Luxury Strawberry Fields Flowers & Plants', 'Mayfair Flowers & Plants', 'Luxury Red Wine Hamper Flowers & Plants', 'Luxury White Wine Hamper Flowers & Plants', 'Sweetness Flowers & Plants', 'Letterbox Lily flowers & plants', 'Luxury Prosecco Hamper Flowers & Plants', 'Rainbow Lilies Flowers & Plants', 'Greta Goose Flowers & Plants', 'Sweetness Gift Set Flowers & Plants', 'Luxury Strawberry Fields Flowers & Plants', 'Yellow Roses Flowers & Plants', 'Rose Gift Bag Flowers & Plants', 'Luxury Rose Wine Hamper Flowers & Plants', 'Luxury Red Wine Hamper Flowers & Plants', 'Scented Stephanotis Planter Flowers & Plants', 'Luxury White Wine Hamper Flowers & Plants', 'Orchid Heart Flowers & Plants', 'Tatty Teddy Giraffe Baby Hamper Flowers & Plants', 'Baby Boy Flowers & Plants', 'Baby Girl Flowers & Plants', 'Congratulations Gift Set Flowers & Plants', 'Luxury Prosecco Hamper Flowers & Plants', 'Greta Goose Flowers & Plants', 'Flowers & Plants For New Home', 'New Home Flowers & Plants', 'Flowers & Plants For Retirement', 'Romantic Flowers & Plants', 'White Pearl Flowers & Plants', 'Rose Lily Flowers & Plants', 'Gift Wrapped Lilies Flowers & Plants', 'Yellow Roses Flowers & Plants', 'Scented Stephanotis Planter Flowers & Plants', 'Grand Sweetness Flowers & Plants', 'Mayfair Flowers & Plants', 'White Peace Lily Planter Flowers & Plants', 'Luxury Prosecco Hamper Flowers & Plants', 'Thank You Gift Set Flowers & Plants', 'Rose Gift Bag Flowers & Plants', 'Farmhouse Pail Flowers & Plants', 'Sunny Germini Flowers & Plants', 'Yellow Roses Flowers & Plants', 'Rose Lily Flowers & Plants', 'Pink Blush Flowers & Plants', 'Fairtrade Rose Sunflowers & Plants', 'Gift Wrapped Lilies Flowers & Plants', 'Sweetness Flowers & Plants', 'Raspberry Ripple Flowers & Plants', 'Letterbox Unicorn Roses Flowers & Plants', 'Letterbox Alstroemeria Flowers & Plants', 'The May Flowers & Plants', 'Summer Vibrant Flowers & Plants', 'Luxury Red Wine Hamper Flowers & Plants', 'Luxury White Wine Hamper Flowers & Plants', 'Greta Goose Flowers & Plants', 'Rainbow Gift Set Flowers & Plants', 'Rainbow Lilies Flowers & Plants', 'Rainbow Roses Flowers & Plants', 'Letterbox Fairtrade Roses Flowers & Plants', 'Magnolia Rose Jug Flowers & Plants', 'Scented Stocks Flowers & Plants', 'Letterbox Lily flowers & plants', 'White Pearl Flowers & Plants', 'Scented Stephanotis Planter Flowers & Plants', 'Grand Rainbow Lilies Flowers & Plants', 'Bubblegum Chrysanthemums Flowers & Plants', 'Roses Lisianthus Flowers & Plants', 'Grand Sweetness Flowers & Plants', 'Letterbox Peonies Flowers & Plants', 'Mayfair Flowers & Plants', 'Sunshine Basket Flowers & Plants', 'Mixed Stocks Roses Flowers & Plants', 'Sweet William Bouquet Flowers & Plants', 'White Peace Lily Planter Flowers & Plants', 'Orchid Heart Flowers & Plants', 'Luxury Strawberry Fields Flowers & Plants', 'Letterbox Chilli flowers & plants', 'British Mixed Peonies Flowers & Plants', 'Letterbox Coffee flowers & plants', '1st Time Dad Coffee Plant Gift Flowers & Plants', 'The June Flowers & Plants', 'Farmhouse Pail Flowers & Plants', 'Sweetness Flowers & Plants', 'Congratulations Flowers & Plants', 'Rose Lily Flowers & Plants', 'Fairtrade Rose Sunflowers & Plants', 'Yellow Roses Flowers & Plants', 'White Pearl Flowers & Plants', 'Letterbox Alstroemeria Flowers & Plants', 'Letterbox Unicorn Roses Flowers & Plants', 'Gift Wrapped Lilies Flowers & Plants', 'Feel Better Soon Gift Set Flowers & Plants', 'Bubblegum Chrysanthemums Flowers & Plants', 'Letterbox Fairtrade Roses Flowers & Plants', '12 Red Roses Flowers & Plants', 'Rainbow Roses Flowers & Plants', 'Summer Vibrant Flowers & Plants', 'The May Flowers & Plants', 'Scented Stocks Flowers & Plants', 'Dozens I Love Yous Flowers & Plants', 'Scented Stephanotis Planter Flowers & Plants', 'Sweet William Bouquet Flowers & Plants', 'Grand Sweetness Flowers & Plants', 'Letterbox Lily flowers & plants', 'Sunshine Basket Flowers & Plants', 'Mixed Stocks Roses Flowers & Plants', 'Luxury Strawberry Fields Flowers & Plants', 'Letterbox Peonies Flowers & Plants', 'Roses Lisianthus Flowers & Plants', 'Mayfair Flowers & Plants', 'British Mixed Peonies Flowers & Plants', 'White Peace Lily Planter Flowers & Plants', 'The June Flowers & Plants', 'Valentines Day Flowers & Plants', 'Get Well Flowers & Plants', 'Bright Flowers & Plants', 'Anniversary flowers & plants', 'Apology flowers & plants', 'Baby flowers & plants', 'Birthday flowers & plants', 'Congratulations flowers & plants', 'Get Well  Soon flowers & plants', 'Good Luck flowers & plants', 'New Home flowers & plants', 'Leaving flowers & plants', 'Retirement flowers & plants', 'Romantic flowers & plants', 'Sympathy flowers & plants', 'Thank You Flowers & Plants', 'New Job flowers & plants', 'Thinking of You flowers & plants', 'Letterbox Flowers & Plants', 'Luxury Flowers & Plants', \"Mother's Day flowers & plants\", 'Christmas flowers & plants', \"Father's Day flowers & plants\", 'Easter  flowers & plants', 'Roses flowers & plants', 'Lilies flowers & plants', 'Gerberas flowers & plants', 'Alstroemeria flowers & plants', 'Carnations flowers & plants', 'Freesias flowers & plants', 'Sunflowers plants', 'Chrysanthemums flowers & plants', 'Tulips flowers & plants', 'Spring Flowers & Plants', 'Summer Flowers & Plants', 'Autumn Flowers & Plants', 'Winter Flowers & Plants', 'Personalised Gifts flowers & plants', 'Yellow Flowers & Plants', 'Bright Flowers & Plants', 'Rainbow Flowers & Plants', 'Red Flowers & Plants', 'Pink Flowers & Plants', 'Assorted flowers & plants', 'Scented flowers & plants', 'Fairtrade flowers & plants', 'British flowers & plants', 'Long Lasting flowers & plants', 'Peonies flowers & plants', 'Letterbox', 'Letterbox Flowers', 'Letterbox plants', 'Luxury Flowers & Plants', 'new babv flowers & plants', 'New Home flowers & plants', 'best sellers flowers & plants', 'White flowers & plants', 'Bouquets flowers & plants', 'Flowers with Vase flowers & plants', 'Indoor Plants flowers & plants', 'Outdoor Plants flowers & plants', 'Gift Sets flowers & plants', 'Bouquet of the Month flowers & plants', 'Best Sellers flowers & plants', 'New flowers & plants', 'Plant of the Month flowers & plants', nan, nan, nan, nan, nan, nan, nan, nan, nan, nan, nan, nan, nan, nan, nan, nan, nan, nan, nan, nan, nan, nan, nan, nan, nan, nan, nan, nan, nan, nan, nan, nan, nan, nan, nan, nan, nan, nan, nan, nan, nan, nan, nan, nan, nan, nan, nan, nan, nan, nan, nan, nan, nan, nan, nan, nan, nan, nan, nan, nan, nan, nan, nan, nan, nan, nan, nan, nan, nan, nan, nan]\n",
            "['25th Anniversary Cards Silver', 'Letterbox Alstroemeria Flowers & Plants', 'Happy Birthday Flower Gift Set Flowers & Plants', 'Letterbox Fairtrade Roses Flowers & Plants', 'Rose Lily Flowers & Plants', 'Rainbow Chrysanthemums Flowers & Plants', 'Sunny Germini Flowers & Plants', 'Yellow Roses Flowers & Plants', 'Sweetness Flowers & Plants', 'Raspberry Ripple Flowers & Plants', 'Rose Gift Bag Flowers & Plants', 'Luxury Prosecco Hamper Flowers & Plants', 'Letterbox Unicorn Roses Flowers & Plants', 'Pink Blush Flowers & Plants', 'White Pearl Flowers & Plants', 'Fairtrade Rose Sunflowers & Plants', 'Rainbow Lilies Flowers & Plants', 'Farmhouse Pail Flowers & Plants', 'Greta Goose Flowers & Plants', '12 Red Roses Flowers & Plants', 'The May flowers & Plants', 'Gift Wrapped Lilies Flowers & Plants', 'Letterbox Lily flowers & plants', 'Luxury Happy Birthday Gift Set Flowers & Plants', 'Luxury Rose Wine Hamper Flowers & Plants', 'Tatty Teddy Giraffe Baby Hamper Flowers & Plants', 'Rainbow Roses Flowers & Plants', 'Feel Better Soon Gift Set Flowers & Plants', 'Roses Lisianthus Flowers & Plants', 'Bubblegum Chrysanthemums Flowers & Plants', 'Luxury Red Wine Hamper Flowers & Plants', 'Scented Stephanotis Planter Flowers & Plants', 'Baby Girl Flowers & Plants', 'Baby Boy Flowers & Plants', 'Magnolia Rose Jug Flowers & Plants', 'Summer Vibrant Flowers & Plants', 'Scented Stocks Flowers & Plants', 'Luxury White Wine Hamper Flowers & Plants', 'Dozens I Love Yous Flowers & Plants', 'Letterbox Peonies Flowers & Plants', 'Congratulations Gift Set Flowers & Plants', 'Grand Sweetness Flowers & Plants', 'Thank You Gift Set Flowers & Plants', 'Mayfair Flowers & Plants', 'Anniversary Gift Set Flowers & Plants', 'Rainbow Gift Set Flowers & Plants', 'Mixed Stocks Roses Flowers & Plants', 'Sunshine Basket Flowers & Plants', 'Sweet William Bouquet Flowers & Plants', 'Grand Rainbow Lilies Flowers & Plants', 'White Peace Lily Planter Flowers & Plants', 'Orchid Heart flowers & plants', 'Luxury Strawberry Fields Flowers & Plants', 'Sweetness Gift Set Flowers & Plants', 'Letterbox Chilli flowers & plants', 'British Mixed Peonies Flowers & Plants', 'Letterbox Coffee flowers & plants', 'The June flowers & Plants', '1st Time Dad Coffee Plant Gift Flowers & Plants', 'All Flowers & Plants', 'Yellow Rose Flowers & Plants', 'Rose Gift Bag Flowers & Plants', 'Luxury Processo Hamper Flowers & Plants', 'Greta Goose Flowers & Plants', 'Gift Wrapped White Lily flowers & plants', 'Letterbox Lily flowers & plants', 'Luxury Rose Wine Hamper Flowers & Plants', 'Tatty Teddy Giraffe Baby Hamper Flowers & Plants', 'Luxury Red Wine Hamper Flowers & Plants', 'Scented Stephanotis Planter Flowers & Plants', 'Magnolia Rose Jug Flowers & Plants', 'Luxury White Wine Hamper Flowers & Plants', 'Sunshine Basket Flowers & Plants', 'White Peace Lily Planter Flowers & Plants', 'Orchid Heart Flowers & Plants', 'Letterbox Chilli flowers & plants', 'Letterbox Coffee flowers & plants', '1st Time Dad Coffee Plant Gift Flowers & Plants', 'Luxury Prosecco Hamper Flowers & Plants', 'Anniversary Gift Set Flowers & Plants', 'Luxury Red Wine Hamper Flowers & Plants', 'Red Roses Flowers & Plants', '12 Red Roses Flowers & Plants', 'Pink Blush Flowers & Plants', 'Rose Gift Bag Flowers & Plants', 'Sweetness Flowers & Plants', 'Letterbox Alstroemeria Flowers & Plants', 'Raspberry Ripple Flowers & Plants', 'Rose Lily Flowers & Plants', 'Yellow Roses Flowers & Plants', 'White Pearl Flowers & Plants', 'Fairtrade Rose Sunflowers & Plants', 'Farmhouse Pail Flowers & Plants', 'The May Flowers & Plants', 'Gift Wrapped Lilies Flowers & Plants', 'Letterbox Lily flowers & plants', 'Luxury Rose Wine Hamper Flowers & Plants', 'Rainbow Roses Flowers & Plants', 'Roses Lisianthus Flowers & Plants', 'Magnolia Rose Jug Flowers & Plants', 'Grand Sweetness Flowers & Plants', 'Letterbox Peonies Flowers & Plants', 'Mayfair Flowers & Plants', 'Rainbow Gift Set Flowers & Plants', 'Sunshine Flower Basket Flowers & Plants', 'Mixed Stocks Roses Flowers & Plants', 'Sweet William Bouquet Flowers & Plants', 'Luxury Strawberry Fields Flowers & Plants', 'Orchid Heart Flowers & Plants', 'British Mixed Peonies Flowers & Plants', 'Apology Flowers & Plants', 'Sweetness Flowers & Plants', 'Happy Birthday Flower Gift Set Flowers & Plants', 'Letterbox Alstroemeria Flowers & Plants', 'Raspberry Ripple Flowers & Plants', 'Letterbox Fairtrade Roses Flowers & Plants', 'Rose Lily Flowers & Plants', 'Pink Blush Flowers & Plants', 'Sunny Germini Flowers & Plants', 'Yellow Roses Flowers & Plants', 'Rainbow Chrysanthemums Flowers & Plants', 'Rose Gift Bag Flowers & Plants', 'Fairtrade Rose Sunflowers & Plants', 'Rainbow Lilies Flowers & Plants', 'Luxury Prosecco Hamper Flowers & Plants', 'Farmhouse Pail Flowers & Plants', 'Greta Goose Flowers & Plants', '12 Red Roses Flowers & Plants', 'Letterbox Unicorn Roses Flowers & Plants', 'The May Flowers & Plants', 'Gift Wrapped Lilies Flowers & Plants', 'Letterbox Lily flowers & plants', 'Luxury Happy Birthday Gift Set Flowers & Plants', 'Luxury Rose Wine Hamper Flowers & Plants', 'Rainbow Roses Flowers & Plants', 'Tatty Teddy Giraffe Baby Hamper Flowers & Plants', 'Roses Lisianthus Flowers & Plants', 'Dozens I Love Yous Flowers & Plants', 'Grand Sweetness Flowers & Plants', 'Letterbox Peonies Flowers & Plants', 'Mayfair Flowers & Plants', 'Rainbow Gift Set Flowers & Plants', 'Sunshine Basket Flowers & Plants', 'Mixed Stocks Roses Flowers & Plants', 'Grand Rainbow Lilies Flowers & Plants', 'Sweet William Bouquet Flowers & Plants', 'White Peace Lily Planter Flowers & Plants', 'Luxury Strawberry Fields Flowers & Plants', 'Orchid Heart Flowers & Plants', 'Letterbox Chilli flowers & plants', 'Sweetness Gift Set Flowers & Plants', 'British Mixed Peonies Flowers & Plants', 'Letterbox Coffee flowers & plants', '1st Time Dad Coffee Plant Set Flowers & Plants', 'Bubblegum Chrysanthemums Flowers & Plants', 'Luxury Red Wine Hamper Flowers & Plants', 'Scented Stephanotis Planter Flowers & Plants', 'Magnolia Rose Jug Flowers & Plants', 'Summer Vibrant Flowers & Plants', 'Scented Stocks Flowers & Plants', 'Luxury White Wine Hamper Flowers & Plants', 'Christmas Flowers & Plants', 'Congratulations Gift Set Flowers & Plants', 'Farmhouse Pail Flowers & Plants', 'Luxury Prosecco Hamper Flowers & Plants', 'Rose Lily Flowers & Plants', 'Rose Gift Bag Flowers & Plants', 'Pink Blush Flowers & Plants', 'Rainbow Chrysanthemums Flowers & Plants', 'Fairtrade Rose Sunflowers & Plants', 'Sweetness Flowers & Plants', 'Letterbox Unicorn Roses Flowers & Plants', 'Luxury Rose Wine Hamper Flowers & Plants', 'Raspberry Ripple Flowers & Plants', 'Rainbow Gift Set Flowers & Plants', 'Yellow Roses Flowers & Plants', 'Letterbox Fairtrade Roses Flowers & Plants', 'Grand Sweetness Flowers & Plants', 'Rainbow Roses Flowers & Plants', 'Gift Wrapped Lilies Flowers & Plants', 'Letterbox Alstroemeria Flowers & Plants', 'The May Flowers & Plants', 'Bubblegum Chrysanthemums Flowers & Plants', 'Rainbow Lilies Flowers & Plants', 'Luxury Red Wine Hamper Flowers & Plants', 'Greta Goose Flowers & Plants', '12 Red Roses Flowers & Plants', 'Letterbox Lily flowers & plants', 'Roses Lisianthus Flowers & Plants', 'Magnolia Rose Jug Flowers & Plants', 'Summer Vibrant Flowers & Plants', 'Luxury White Wine Hamper Flowers & Plants', 'Scented Stocks Flowers & Plants', 'Mayfair Flowers & Plants', 'Anniversary Gift Set Flowers & Plants', 'Sunshine Basket Flowers & Plants', 'Mixed Stocks Roses Flowers & Plants', 'Grand Rainbow Lilies Flowers & Plants', 'Sweet William Bouquet Flowers & Plants', 'Luxury Strawberry Fields Flowers & Plants', 'Orchid Heart Flowers & Plants', 'British Mixed Peonies Flowers & Plants', 'Tatty Teddy Giraffe Baby Hamper Flowers & Plants', 'Greta Goose Flowers & Plants', 'Fairtrade Rose Sunflowers & Plants', 'Sunny Germini Flowers & Plants', 'Yellow Roses Flowers & Plants', 'Gift Wrapped Lilies Flowers & Plants', 'Magnolia Rose Jug Flowers & Plants', 'Orchid Heart Flowers & Plants', 'Feel Better Soon Gift Set Flowers & Plants', 'Farmhouse Pail Flowers & Plants', 'Raspberry Ripple Flowers & Plants', 'Rainbow Chrysanthemums Flowers & Plants', 'Rose Gift Bag Flowers & Plants', 'Fairtrade Rose Sunflowers & Plants', 'Pink Blush Flowers & Plants', 'Yellow Roses Flowers & Plants', 'Bubblegum Chrysanthemums Flowers & Plants', 'Letterbox Fairtrade Roses Flowers & Plants', 'Rose Lily Flowers & Plants', 'Letterbox Alstroemeria Flowers & Plants', 'Summer Vibrant Flowers & Plants', 'White Pearl Flowers & Plants', 'Gift Wrapped Lilies Flowers & Plants', 'Sweetness Flowers & Plants', 'Greta Goose Flowers & Plants', 'Scented Stocks Flowers & Plants', 'Sweet William Bouquet Flowers & Plants', 'Luxury White Wine Hamper Flowers & Plants', 'Roses Lisianthus Flowers & Plants', 'Luxury Rose Wine Hamper Flowers & Plants', 'Magnolia Rose Jug Flowers & Plants', 'The May Flowers & Plants', 'Mixed Stocks Roses Flowers & Plants', 'Rainbow Lilies Flowers & Plants', 'Grand Rainbow Lilies Flowers & Plants', 'Rainbow Roses Flowers & Plants', 'Grand Sweetness Flowers & Plants', 'Letterbox Lily flowers & plants', 'Scented Stephanotis Planter Flowers & Plants', '12 Red Roses Flowers & Plants', 'Mayfair Flowers & Plants', 'Sunshine Basket Flowers & Plants', 'White Peace Lily Planter Flowers & Plants', 'Orchid Heart Flowers & Plants', 'British Mixed Peonies Flowers & Plants', 'The June Flowers & Plants', 'Leaving Flowers & Plants', 'Letterbox Alstroemeria Flowers & Plants', 'Letterbox Unicorn Roses Flowers & Plants', 'Letterbox Fairtrade Roses Flowers & Plants', 'Letterbox Lily flowers & plants', 'Letterbox Peonies Flowers & Plants', 'Letterbox Coffee flowers & plants', 'Letterbox Chilli flowers & plants', 'Letterbox Alstroemeria Flowers & Plants', 'Letterbox Fairtrade Roses Flowers & Plants', 'Letterbox Unicorn Roses Flowers & Plants', 'Letterbox Lily flowers & plants', 'Letterbox Coffee flowers & plants', 'Letterbox Chilli flowers & plants', 'Luxury Prosecco Hamper Flowers & Plants', 'Luxury Birthday Gift Set Flowers & Plants', 'Luxury Rose Wine Hamper Flowers & Plants', 'Luxury Strawberry Fields Flowers & Plants', 'Mayfair Flowers & Plants', 'Luxury Red Wine Hamper Flowers & Plants', 'Luxury White Wine Hamper Flowers & Plants', 'Sweetness Flowers & Plants', 'Letterbox Lily flowers & plants', 'Luxury Prosecco Hamper Flowers & Plants', 'Rainbow Lilies Flowers & Plants', 'Greta Goose Flowers & Plants', 'Sweetness Gift Set Flowers & Plants', 'Luxury Strawberry Fields Flowers & Plants', 'Yellow Roses Flowers & Plants', 'Rose Gift Bag Flowers & Plants', 'Luxury Rose Wine Hamper Flowers & Plants', 'Luxury Red Wine Hamper Flowers & Plants', 'Scented Stephanotis Planter Flowers & Plants', 'Luxury White Wine Hamper Flowers & Plants', 'Orchid Heart Flowers & Plants', 'Tatty Teddy Giraffe Baby Hamper Flowers & Plants', 'Baby Boy Flowers & Plants', 'Baby Girl Flowers & Plants', 'Congratulations Gift Set Flowers & Plants', 'Luxury Prosecco Hamper Flowers & Plants', 'Greta Goose Flowers & Plants', 'Flowers & Plants For New Home', 'New Home Flowers & Plants', 'Flowers & Plants For Retirement', 'Romantic Flowers & Plants', 'White Pearl Flowers & Plants', 'Rose Lily Flowers & Plants', 'Gift Wrapped Lilies Flowers & Plants', 'Yellow Roses Flowers & Plants', 'Scented Stephanotis Planter Flowers & Plants', 'Grand Sweetness Flowers & Plants', 'Mayfair Flowers & Plants', 'White Peace Lily Planter Flowers & Plants', 'Luxury Prosecco Hamper Flowers & Plants', 'Thank You Gift Set Flowers & Plants', 'Rose Gift Bag Flowers & Plants', 'Farmhouse Pail Flowers & Plants', 'Sunny Germini Flowers & Plants', 'Yellow Roses Flowers & Plants', 'Rose Lily Flowers & Plants', 'Pink Blush Flowers & Plants', 'Fairtrade Rose Sunflowers & Plants', 'Gift Wrapped Lilies Flowers & Plants', 'Sweetness Flowers & Plants', 'Raspberry Ripple Flowers & Plants', 'Letterbox Unicorn Roses Flowers & Plants', 'Letterbox Alstroemeria Flowers & Plants', 'The May Flowers & Plants', 'Summer Vibrant Flowers & Plants', 'Luxury Red Wine Hamper Flowers & Plants', 'Luxury White Wine Hamper Flowers & Plants', 'Greta Goose Flowers & Plants', 'Rainbow Gift Set Flowers & Plants', 'Rainbow Lilies Flowers & Plants', 'Rainbow Roses Flowers & Plants', 'Letterbox Fairtrade Roses Flowers & Plants', 'Magnolia Rose Jug Flowers & Plants', 'Scented Stocks Flowers & Plants', 'Letterbox Lily flowers & plants', 'White Pearl Flowers & Plants', 'Scented Stephanotis Planter Flowers & Plants', 'Grand Rainbow Lilies Flowers & Plants', 'Bubblegum Chrysanthemums Flowers & Plants', 'Roses Lisianthus Flowers & Plants', 'Grand Sweetness Flowers & Plants', 'Letterbox Peonies Flowers & Plants', 'Mayfair Flowers & Plants', 'Sunshine Basket Flowers & Plants', 'Mixed Stocks Roses Flowers & Plants', 'Sweet William Bouquet Flowers & Plants', 'White Peace Lily Planter Flowers & Plants', 'Orchid Heart Flowers & Plants', 'Luxury Strawberry Fields Flowers & Plants', 'Letterbox Chilli flowers & plants', 'British Mixed Peonies Flowers & Plants', 'Letterbox Coffee flowers & plants', '1st Time Dad Coffee Plant Gift Flowers & Plants', 'The June Flowers & Plants', 'Farmhouse Pail Flowers & Plants', 'Sweetness Flowers & Plants', 'Congratulations Flowers & Plants', 'Rose Lily Flowers & Plants', 'Fairtrade Rose Sunflowers & Plants', 'Yellow Roses Flowers & Plants', 'White Pearl Flowers & Plants', 'Letterbox Alstroemeria Flowers & Plants', 'Letterbox Unicorn Roses Flowers & Plants', 'Gift Wrapped Lilies Flowers & Plants', 'Feel Better Soon Gift Set Flowers & Plants', 'Bubblegum Chrysanthemums Flowers & Plants', 'Letterbox Fairtrade Roses Flowers & Plants', '12 Red Roses Flowers & Plants', 'Rainbow Roses Flowers & Plants', 'Summer Vibrant Flowers & Plants', 'The May Flowers & Plants', 'Scented Stocks Flowers & Plants', 'Dozens I Love Yous Flowers & Plants', 'Scented Stephanotis Planter Flowers & Plants', 'Sweet William Bouquet Flowers & Plants', 'Grand Sweetness Flowers & Plants', 'Letterbox Lily flowers & plants', 'Sunshine Basket Flowers & Plants', 'Mixed Stocks Roses Flowers & Plants', 'Luxury Strawberry Fields Flowers & Plants', 'Letterbox Peonies Flowers & Plants', 'Roses Lisianthus Flowers & Plants', 'Mayfair Flowers & Plants', 'British Mixed Peonies Flowers & Plants', 'White Peace Lily Planter Flowers & Plants', 'The June Flowers & Plants', 'Valentines Day Flowers & Plants', 'Get Well Flowers & Plants', 'Bright Flowers & Plants', 'Anniversary flowers & plants', 'Apology flowers & plants', 'Baby flowers & plants', 'Birthday flowers & plants', 'Congratulations flowers & plants', 'Get Well  Soon flowers & plants', 'Good Luck flowers & plants', 'New Home flowers & plants', 'Leaving flowers & plants', 'Retirement flowers & plants', 'Romantic flowers & plants', 'Sympathy flowers & plants', 'Thank You Flowers & Plants', 'New Job flowers & plants', 'Thinking of You flowers & plants', 'Letterbox Flowers & Plants', 'Luxury Flowers & Plants', \"Mother's Day flowers & plants\", 'Christmas flowers & plants', \"Father's Day flowers & plants\", 'Easter  flowers & plants', 'Roses flowers & plants', 'Lilies flowers & plants', 'Gerberas flowers & plants', 'Alstroemeria flowers & plants', 'Carnations flowers & plants', 'Freesias flowers & plants', 'Sunflowers plants', 'Chrysanthemums flowers & plants', 'Tulips flowers & plants', 'Spring Flowers & Plants', 'Summer Flowers & Plants', 'Autumn Flowers & Plants', 'Winter Flowers & Plants', 'Personalised Gifts flowers & plants', 'Yellow Flowers & Plants', 'Bright Flowers & Plants', 'Rainbow Flowers & Plants', 'Red Flowers & Plants', 'Pink Flowers & Plants', 'Assorted flowers & plants', 'Scented flowers & plants', 'Fairtrade flowers & plants', 'British flowers & plants', 'Long Lasting flowers & plants', 'Peonies flowers & plants', 'Letterbox', 'Letterbox Flowers', 'Letterbox plants', 'Luxury Flowers & Plants', 'new babv flowers & plants', 'New Home flowers & plants', 'best sellers flowers & plants', 'White flowers & plants', 'Bouquets flowers & plants', 'Flowers with Vase flowers & plants', 'Indoor Plants flowers & plants', 'Outdoor Plants flowers & plants', 'Gift Sets flowers & plants', 'Bouquet of the Month flowers & plants', 'Best Sellers flowers & plants', 'New flowers & plants', 'Plant of the Month flowers & plants']\n"
          ],
          "name": "stdout"
        }
      ]
    },
    {
      "cell_type": "markdown",
      "metadata": {
        "id": "o7SpRTAVLAS4",
        "colab_type": "text"
      },
      "source": [
        "**Create Function to embed data and return as array**\n",
        "\n"
      ]
    },
    {
      "cell_type": "code",
      "metadata": {
        "id": "K-7uF0KtK9JY",
        "colab_type": "code",
        "colab": {}
      },
      "source": [
        "def embedder(array):\n",
        "  embedding = embed(array)\n",
        "  \n",
        "  with tf.Session() as sess:\n",
        "    sess.run(tf.global_variables_initializer())\n",
        "    sess.run(tf.tables_initializer())\n",
        "    \n",
        "    return sess.run(embedding)\n",
        "  "
      ],
      "execution_count": 0,
      "outputs": []
    },
    {
      "cell_type": "markdown",
      "metadata": {
        "id": "lrSrEj-6LFdc",
        "colab_type": "text"
      },
      "source": [
        "**Embed h1s into arrays**"
      ]
    },
    {
      "cell_type": "code",
      "metadata": {
        "id": "1K-Zo5DdLF1H",
        "colab_type": "code",
        "colab": {
          "base_uri": "https://localhost:8080/",
          "height": 119
        },
        "outputId": "cbee37a5-8c2b-4fd3-aca9-f82a20f8e6d1"
      },
      "source": [
        "oldh1s_embedded = embedder(clean_old_h1)\n",
        "newh1s_embedded = embedder(clean_new_h1)\n",
        "print(oldh1s_embedded.shape)\n",
        "print(newh1s_embedded.shape)"
      ],
      "execution_count": 21,
      "outputs": [
        {
          "output_type": "stream",
          "text": [
            "INFO:tensorflow:Saver not created because there are no variables in the graph to restore\n"
          ],
          "name": "stdout"
        },
        {
          "output_type": "stream",
          "text": [
            "INFO:tensorflow:Saver not created because there are no variables in the graph to restore\n"
          ],
          "name": "stderr"
        },
        {
          "output_type": "stream",
          "text": [
            "INFO:tensorflow:Saver not created because there are no variables in the graph to restore\n"
          ],
          "name": "stdout"
        },
        {
          "output_type": "stream",
          "text": [
            "INFO:tensorflow:Saver not created because there are no variables in the graph to restore\n"
          ],
          "name": "stderr"
        },
        {
          "output_type": "stream",
          "text": [
            "(515, 512)\n",
            "(444, 512)\n"
          ],
          "name": "stdout"
        }
      ]
    },
    {
      "cell_type": "markdown",
      "metadata": {
        "id": "uK6PtWCJMiUA",
        "colab_type": "text"
      },
      "source": [
        "**Create cosine distance/similarity function**"
      ]
    },
    {
      "cell_type": "code",
      "metadata": {
        "id": "0kLCQ-YSMqvs",
        "colab_type": "code",
        "colab": {}
      },
      "source": [
        "def find_similarity(old,new):\n",
        "  \n",
        "    similarities = tf.reduce_sum(tf.multiply(\n",
        "      tf.nn.l2_normalize(old, axis=1), \n",
        "      tf.nn.l2_normalize(new, axis=1)), axis=1)\n",
        "  \n",
        "    with tf.Session() as sess:\n",
        "    sess.run(tf.global_variables_initializer())\n",
        "    sess.run(tf.tables_initializer())\n",
        "    return sess.run(similarities)"
      ],
      "execution_count": 0,
      "outputs": []
    },
    {
      "cell_type": "code",
      "metadata": {
        "id": "h1UZAe7xRWtT",
        "colab_type": "code",
        "colab": {
          "base_uri": "https://localhost:8080/",
          "height": 34
        },
        "outputId": "81f5f450-bdd6-45f8-b264-e7f2a381e5f1"
      },
      "source": [
        "!pip install tqdm"
      ],
      "execution_count": 24,
      "outputs": [
        {
          "output_type": "stream",
          "text": [
            "Requirement already satisfied: tqdm in /usr/local/lib/python3.6/dist-packages (4.28.1)\n"
          ],
          "name": "stdout"
        }
      ]
    },
    {
      "cell_type": "markdown",
      "metadata": {
        "id": "TRzcpKljPc94",
        "colab_type": "text"
      },
      "source": [
        "**Create function to compare each word**"
      ]
    },
    {
      "cell_type": "code",
      "metadata": {
        "id": "9Zzj6o2SPa5G",
        "colab_type": "code",
        "colab": {
          "base_uri": "https://localhost:8080/",
          "height": 384
        },
        "outputId": "4edd6914-f54e-4fc0-92cb-7c68e4483124"
      },
      "source": [
        "movie_list = ['The Godfather', 'The Wizard of Oz', 'Citizen Kane', 'The Shawshank Redemption', 'Pulp Fiction',\"Batman\",\"Man of Steel\"]\n",
        "book_list = [\"Wizards of waverly\", \"The Dark Knight\", \"Pulp Fiction\",\"Superman\"]\n",
        "book_list2 = book_list + [\"\" for i in range(len(movie_list)-len(book_list))]\n",
        "print(len(movie_list))\n",
        "print(len(book_list2))\n",
        "\n",
        "count = 0\n",
        "input_array = [[old_h1s_embedded[count],value] for value in newh1s_embedded]\n",
        "print(input_array.shape)\n",
        "\n",
        "input_array = []\n",
        "for value in tqdm(newh1s_embedded)\n",
        "  input_array.append([old_h1s_embedded[count],value])\n",
        "  \n"
      ],
      "execution_count": 23,
      "outputs": [
        {
          "output_type": "stream",
          "text": [
            "7\n",
            "7\n"
          ],
          "name": "stdout"
        },
        {
          "output_type": "error",
          "ename": "NameError",
          "evalue": "ignored",
          "traceback": [
            "\u001b[0;31m---------------------------------------------------------------------------\u001b[0m",
            "\u001b[0;31mNameError\u001b[0m                                 Traceback (most recent call last)",
            "\u001b[0;32m<ipython-input-23-42b1be246ce4>\u001b[0m in \u001b[0;36m<module>\u001b[0;34m()\u001b[0m\n\u001b[1;32m      6\u001b[0m \u001b[0;34m\u001b[0m\u001b[0m\n\u001b[1;32m      7\u001b[0m \u001b[0mcount\u001b[0m \u001b[0;34m=\u001b[0m \u001b[0;36m0\u001b[0m\u001b[0;34m\u001b[0m\u001b[0;34m\u001b[0m\u001b[0m\n\u001b[0;32m----> 8\u001b[0;31m \u001b[0minput_array\u001b[0m \u001b[0;34m=\u001b[0m \u001b[0;34m[\u001b[0m\u001b[0;34m[\u001b[0m\u001b[0mold_h1s_embedded\u001b[0m\u001b[0;34m[\u001b[0m\u001b[0mcount\u001b[0m\u001b[0;34m]\u001b[0m\u001b[0;34m,\u001b[0m\u001b[0mvalue\u001b[0m\u001b[0;34m]\u001b[0m \u001b[0;32mfor\u001b[0m \u001b[0mvalue\u001b[0m \u001b[0;32min\u001b[0m \u001b[0mnewh1s_embedded\u001b[0m\u001b[0;34m]\u001b[0m\u001b[0;34m\u001b[0m\u001b[0;34m\u001b[0m\u001b[0m\n\u001b[0m\u001b[1;32m      9\u001b[0m \u001b[0mprint\u001b[0m\u001b[0;34m(\u001b[0m\u001b[0minput_array\u001b[0m\u001b[0;34m.\u001b[0m\u001b[0mshape\u001b[0m\u001b[0;34m)\u001b[0m\u001b[0;34m\u001b[0m\u001b[0;34m\u001b[0m\u001b[0m\n\u001b[1;32m     10\u001b[0m \u001b[0;34m\u001b[0m\u001b[0m\n",
            "\u001b[0;32m<ipython-input-23-42b1be246ce4>\u001b[0m in \u001b[0;36m<listcomp>\u001b[0;34m(.0)\u001b[0m\n\u001b[1;32m      6\u001b[0m \u001b[0;34m\u001b[0m\u001b[0m\n\u001b[1;32m      7\u001b[0m \u001b[0mcount\u001b[0m \u001b[0;34m=\u001b[0m \u001b[0;36m0\u001b[0m\u001b[0;34m\u001b[0m\u001b[0;34m\u001b[0m\u001b[0m\n\u001b[0;32m----> 8\u001b[0;31m \u001b[0minput_array\u001b[0m \u001b[0;34m=\u001b[0m \u001b[0;34m[\u001b[0m\u001b[0;34m[\u001b[0m\u001b[0mold_h1s_embedded\u001b[0m\u001b[0;34m[\u001b[0m\u001b[0mcount\u001b[0m\u001b[0;34m]\u001b[0m\u001b[0;34m,\u001b[0m\u001b[0mvalue\u001b[0m\u001b[0;34m]\u001b[0m \u001b[0;32mfor\u001b[0m \u001b[0mvalue\u001b[0m \u001b[0;32min\u001b[0m \u001b[0mnewh1s_embedded\u001b[0m\u001b[0;34m]\u001b[0m\u001b[0;34m\u001b[0m\u001b[0;34m\u001b[0m\u001b[0m\n\u001b[0m\u001b[1;32m      9\u001b[0m \u001b[0mprint\u001b[0m\u001b[0;34m(\u001b[0m\u001b[0minput_array\u001b[0m\u001b[0;34m.\u001b[0m\u001b[0mshape\u001b[0m\u001b[0;34m)\u001b[0m\u001b[0;34m\u001b[0m\u001b[0;34m\u001b[0m\u001b[0m\n\u001b[1;32m     10\u001b[0m \u001b[0;34m\u001b[0m\u001b[0m\n",
            "\u001b[0;31mNameError\u001b[0m: name 'old_h1s_embedded' is not defined"
          ]
        }
      ]
    },
    {
      "cell_type": "markdown",
      "metadata": {
        "id": "_p9kHD9FNMJ4",
        "colab_type": "text"
      },
      "source": [
        "**Run Similarity Function**"
      ]
    },
    {
      "cell_type": "code",
      "metadata": {
        "id": "z7maYrB0NLHV",
        "colab_type": "code",
        "colab": {}
      },
      "source": [
        ""
      ],
      "execution_count": 0,
      "outputs": []
    },
    {
      "cell_type": "code",
      "metadata": {
        "id": "bIvuJ9YaKVX8",
        "colab_type": "code",
        "colab": {
          "base_uri": "https://localhost:8080/",
          "height": 68
        },
        "outputId": "8ce40922-940b-487e-a149-8072b8e42320"
      },
      "source": [
        "\n",
        "print(embedder(clean_old_h1).shape)\n",
        "\n",
        "\n",
        "  "
      ],
      "execution_count": 14,
      "outputs": [
        {
          "output_type": "stream",
          "text": [
            "INFO:tensorflow:Saver not created because there are no variables in the graph to restore\n"
          ],
          "name": "stdout"
        },
        {
          "output_type": "stream",
          "text": [
            "INFO:tensorflow:Saver not created because there are no variables in the graph to restore\n"
          ],
          "name": "stderr"
        },
        {
          "output_type": "stream",
          "text": [
            "(515, 512)\n"
          ],
          "name": "stdout"
        }
      ]
    }
  ]
}