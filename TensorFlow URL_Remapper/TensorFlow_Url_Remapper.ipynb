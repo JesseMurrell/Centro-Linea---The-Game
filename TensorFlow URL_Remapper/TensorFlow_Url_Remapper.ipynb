{
  "nbformat": 4,
  "nbformat_minor": 0,
  "metadata": {
    "colab": {
      "name": "TensorFlow_Url_Remapper.ipynb",
      "provenance": [],
      "collapsed_sections": [],
      "include_colab_link": true
    },
    "kernelspec": {
      "name": "python3",
      "display_name": "Python 3"
    }
  },
  "cells": [
    {
      "cell_type": "markdown",
      "metadata": {
        "id": "view-in-github",
        "colab_type": "text"
      },
      "source": [
        "<a href=\"https://colab.research.google.com/github/JesseMurrell/Centro-Linea---The-Game/blob/master/TensorFlow%20URL_Remapper/TensorFlow_Url_Remapper.ipynb\" target=\"_parent\"><img src=\"https://colab.research.google.com/assets/colab-badge.svg\" alt=\"Open In Colab\"/></a>"
      ]
    },
    {
      "cell_type": "markdown",
      "metadata": {
        "id": "to3Ig302BCKu",
        "colab_type": "text"
      },
      "source": [
        "**Dependancies**"
      ]
    },
    {
      "cell_type": "code",
      "metadata": {
        "id": "HerMCPAJAYvB",
        "colab_type": "code",
        "colab": {}
      },
      "source": [
        "import tensorflow as tf\n",
        "import tensorflow_hub as hub\n",
        "import pandas as pd\n",
        "from tqdm import tqdm"
      ],
      "execution_count": 0,
      "outputs": []
    },
    {
      "cell_type": "markdown",
      "metadata": {
        "id": "LUxWeSvyAnd5",
        "colab_type": "text"
      },
      "source": [
        "**Embed Module**"
      ]
    },
    {
      "cell_type": "code",
      "metadata": {
        "id": "kHCCehScAaKA",
        "colab_type": "code",
        "colab": {}
      },
      "source": [
        "embed = hub.Module(\"https://tfhub.dev/google/universal-sentence-encoder/2\")"
      ],
      "execution_count": 0,
      "outputs": []
    },
    {
      "cell_type": "markdown",
      "metadata": {
        "id": "vXxWL36YBKiK",
        "colab_type": "text"
      },
      "source": [
        "**Load in Data**"
      ]
    },
    {
      "cell_type": "code",
      "metadata": {
        "id": "q61lWKc2AbL3",
        "colab_type": "code",
        "outputId": "d2a16cff-f9df-47a3-a9cb-a20d4ecdaa88",
        "colab": {
          "resources": {
            "http://localhost:8080/nbextensions/google.colab/files.js": {
              "data": "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",
              "ok": true,
              "headers": [
                [
                  "content-type",
                  "application/javascript"
                ]
              ],
              "status": 200,
              "status_text": ""
            }
          },
          "base_uri": "https://localhost:8080/",
          "height": 74
        }
      },
      "source": [
        "from google.colab import files\n",
        "\n",
        "\n",
        "data = files.upload()"
      ],
      "execution_count": 5,
      "outputs": [
        {
          "output_type": "display_data",
          "data": {
            "text/html": [
              "\n",
              "     <input type=\"file\" id=\"files-4529bde1-8647-4498-a4ea-3dfe5c460b9c\" name=\"files[]\" multiple disabled />\n",
              "     <output id=\"result-4529bde1-8647-4498-a4ea-3dfe5c460b9c\">\n",
              "      Upload widget is only available when the cell has been executed in the\n",
              "      current browser session. Please rerun this cell to enable.\n",
              "      </output>\n",
              "      <script src=\"/nbextensions/google.colab/files.js\"></script> "
            ],
            "text/plain": [
              "<IPython.core.display.HTML object>"
            ]
          },
          "metadata": {
            "tags": []
          }
        },
        {
          "output_type": "stream",
          "text": [
            "Saving Moonpig_Alcohol_Data.xlsx to Moonpig_Alcohol_Data.xlsx\n"
          ],
          "name": "stdout"
        }
      ]
    },
    {
      "cell_type": "markdown",
      "metadata": {
        "id": "N8uzXouSBNnx",
        "colab_type": "text"
      },
      "source": [
        "**Organise  and clean data**"
      ]
    },
    {
      "cell_type": "code",
      "metadata": {
        "id": "TYusw90zAcxt",
        "colab_type": "code",
        "outputId": "2b4a165a-03f6-4135-a7b0-086bf61a7129",
        "colab": {
          "base_uri": "https://localhost:8080/",
          "height": 88
        }
      },
      "source": [
        "df = pd.read_excel(\"Moonpig_Alcohol_Data.xlsx\")\n",
        "old_urls = list(df[\"Old Urls\"].str.strip())\n",
        "new_urls= list(df[\"New Urls\"].str.strip())\n",
        "old_h1s = list(df[\"Old Url H1\"].str.strip())\n",
        "new_h1s = list(df[\"New Url H1\"].str.strip())\n",
        "\n",
        "count = 0\n",
        "new_h1s_em = new_h1s + [\"hello\" for i in range(len(old_h1s)-len(new_h1s))]\n",
        "data = []\n",
        "for unit in old_h1s:\n",
        "  data.append([unit,new_h1s_em[count]])\n",
        "  count += 1 \n",
        "print(len(old_h1s))\n",
        "print(len(new_h1s))\n",
        "print(data)\n",
        "clean_old_h1 = [h1 for h1 in old_h1s if str(h1) != \"nan\"]\n",
        "clean_new_h1 = [h1 for h1 in new_h1s if str(h1) != \"nan\"]\n"
      ],
      "execution_count": 6,
      "outputs": [
        {
          "output_type": "stream",
          "text": [
            "833\n",
            "833\n",
            "[['Lanson Champagne Alcohol Gifts', 'Branded Beer'], ['Beer Hawk Alcohol Gifts', 'Craft Beer'], [\"Mother's Day Alcohol Gifts\", 'Beer Gift Sets'], ['Spirit & Liqueurs Alcohol Gifts', 'Small Batch Beer'], ['Gin Alcohol Gifts', 'Beerhawk Beer'], ['Moet Chandon Champagne Alcohol Gifts', 'Hogs Back Beer'], ['Beer Alcohol Gifts', 'Honestbrew Beer'], ['Sipsmith Alcohol Gifts', 'Freedom Brewery'], ['Hogs Back Brewery Alcohol Gifts', 'Sheppys Beer'], ['Prosecco Alcohol Gifts', 'Celtic Marches Beer'], ['Whisky Alcohol Gifts', 'Snuffling Pig Gifts'], ['Champagne Alcohol Gifts', 'Bakedin Beer'], ['Personalised Alcohol Gifts', 'Montezuma Beer'], ['Wine Alcohol Gifts', 'Fudge Kitchen Sweets'], ['Alcohol Gifts', 'Sweets In The City'], [\"Personalised Mother's Day Alcohol Gifts\", 'Seed Pantry'], ['Wine Alcohol Gifts', 'Artisan Bourbon'], ['Beer Hawk Alcohol Gifts', 'Bourbon'], ['Prosecco Alcohol Gifts', 'Branded Bourbon'], ['Personalised Gifts', 'Bourbon Gift Sets'], ['Alcohol Gifts', 'Single Malt Bourbon'], ['Hogs Back Alcohol Gifts', 'Small Batch Bourbon'], ['Alcohol Gifts', 'Traditional Bourbon'], ['Wine Alcohol Gifts', 'Brut Champagne'], [\"Mother's Day Alcohol Gifts\", 'Champagne By The Case'], ['Moet Chandon Champagne Alcohol Gifts', 'Rose Champagne'], ['Moet Chandon Champagne Alcohol Gifts', 'Sparkling Champagne'], ['Whisky Alcohol Gifts', 'Organic Champagne'], [\"Mother's Day Alcohol Gifts\", 'Vintage Champagne'], ['Beer Alcohol Gifts', 'Lanson Champagne'], ['Personalised Alcohol Gifts', 'Moet Champagne'], ['Personalised Gifts', 'Venue Champagne'], ['Hogs Back Brewery Alcohol Gifts', 'Hattingley Champagne'], ['Gin Alcohol Gifts', 'Heidsieck Monople Champagne'], ['Champagne Alcohol Gifts', 'Kew Champagne'], [\"Mother's Day Alcohol Gifts\", 'Branded Cider'], ['Personalised Alcohol Gifts', 'Craft Cider'], [\"Father's Day Gifts\", 'Cider Gift Sets'], ['Lanson Champagne Alcohol Gifts', 'Small Batch Cider'], ['Personalised Alcohol Gifts', 'Classic Cocktails'], [\"Mother's Day Alcohol Gifts\", 'Cocktail Gift Sets'], ['Wine Alcohol Gifts', 'Gin Cocktails'], ['Spirit & Liqueurs Alcohol Gifts', 'Gin Selection Cocktails'], ['Sipsmith Alcohol Gifts', 'Vodka Cocktails'], ['Gin Alcohol Gifts', 'Tipple Box Cocktails'], [\"Personalised Mother's Day Alcohol Gifts\", 'Artisan Cognac'], ['Hogs Back Brewery Alcohol Gifts', 'Branded Cognac'], ['Spirit & Liqueurs Alcohol Gifts', 'Cognac'], ['Sipsmith Alcohol Gifts', 'Cognac Gift Sets'], ['Gin Alcohol Gifts', 'Single Malt Cognac'], ['Hogs Back Brewery Alcohol Gifts', 'Small Batch Cognac'], ['Beer Alcohol Gifts', 'Traditional Cognac'], ['Host & Hostess Alcohol Gift Ideas', 'Artisan Gin'], ['Champagne Alcohol Gifts', 'Branded Gin'], ['Whisky Alcohol Gifts', 'Gin Gift Sets'], ['Beer Hawk Alcohol Gifts', 'Small Batch Gin'], ['Beer Alcohol Gifts', 'Hendricks Gin'], ['Christmas Alcohol Gifts', 'Sipsmith Gin'], ['Congratulations Gifts', 'Espensen Spirits Gin'], ['Personalised Alcohol Gifts', 'Silent Pool Gin'], ['Moet Chandon Champagne Alcohol Gifts', 'Adnams Gin'], ['Lanson Champagne Alcohol Gifts', 'Silbling Gin'], [\"Personalised Mother's Day Alcohol Gifts\", 'Firebox Gin'], ['Lanson Champagne Alcohol Gifts', 'Edinburgh Gin Gin'], ['Champagne Alcohol Gifts', 'Fever Tree Gin'], ['Beer Alcohol Gifts', 'Warner Edwards Gin'], ['Birthday Gifts', 'Two Birds Gin'], ['Gin Alcohol Gifts', 'Bath Tub Gin'], ['Sipsmith Alcohol Gifts', 'Letterbox Wine'], ['Beer Hawk Alcohol Gifts', 'Letterbox Wine'], ['Anniversary Gifts', 'Moonpig Letterbox'], ['Alcohol Gifts', 'Penny Post Letterbox Alcohol'], ['Prosecco Alcohol Gifts', 'Penny Post Letterbox Alcohol'], ['Wine Alcohol Gifts', 'Personalised Beer'], ['Prosecco Alcohol Gifts', 'Personalised Rum'], ['Alcohol Gifts', 'Personalised Vodka'], ['Whisky Alcohol Gifts', 'Personalised Whiskey'], [\"Personalised Mother's Day Alcohol Gifts\", 'Intervino Alcohol'], ['Alcohol Gifts', 'Lanson Alcohol'], [\"Champagne Valentine's Day Alcohol Gifts\", 'Hogs Back Alcohol'], [\"Valentine's Day Alcohol Gifts\", 'Artisan Rum'], ['Spirit & Liqueurs Alcohol Gifts', 'Branded Rum'], ['Wine Alcohol Gifts', 'Rum Gift Sets'], ['Wine Alcohol Gifts', 'Small Batch Rum'], ['Spirit & Liqueurs Alcohol Gifts', 'Cazcabel Honey Tequila'], ['Specialty Spirits & Cocktail Making Gift Sets', 'Firebox'], ['Spirit & Liqueurs Alcohol Gifts', 'Duppy Share Rum'], ['Hogs Back Brewery Alcohol Gifts', 'Don Papa Rum'], ['Spirit & Liqueurs Alcohol Gifts', 'Atlantico Rum'], ['Sipsmith Alcohol Gifts', 'Sparkling Brut'], ['Gin Alcohol Gifts', 'Sparkling Gift Sets'], ['Hogs Back Brewery Alcohol Gifts', 'Sparkling Rose'], ['Beer Alcohol Gifts', 'Bottega Sparkling Wine'], ['Host & Hostess Alcohol Gift Ideas', 'Kew Sparkling Wine'], ['Champagne Alcohol Gifts', 'Pere Ventura Sparkling Wine'], ['Whisky Alcohol Gifts', 'Cono Sur Sparkling Wine'], ['Beer Hawk Alcohol Gifts', 'Da Luca Sparkling Wine'], ['Beer Alcohol Gifts', 'Artisan Tequlia'], ['Christmas Alcohol Gifts', 'Branded Tequlia'], ['Congratulations Gifts', 'Tequilla Gift Set'], ['Personalised Alcohol Gifts', 'Small Batch Tequilla'], ['Moet Chandon Champagne Alcohol Gifts', 'Artisan Vodka'], ['Lanson Champagne Alcohol Gifts', 'Branded Vodka'], [\"Personalised Mother's Day Alcohol Gifts\", 'Vodka Gift Sets'], ['Lanson Champagne Alcohol Gifts', 'Small Batch Vodka'], ['Champagne Alcohol Gifts', 'Two Birds Vodka'], ['Beer Alcohol Gifts', 'Kin Vodka'], ['Birthday Gifts', 'Espensen Spirits Vodka'], ['Gin Alcohol Gifts', 'Firebox Vodka'], ['Sipsmith Alcohol Gifts', 'Au Vodka'], ['Beer Hawk Alcohol Gifts', 'Crystal Head Vodka'], ['Anniversary Gifts', 'Artisan Whiskey'], ['Alcohol Gifts', 'Branded Whiskey'], ['Prosecco Alcohol Gifts', 'Whisky Gift Sets'], ['Wine Alcohol Gifts', 'Single Malt Whiskey'], ['Prosecco Alcohol Gifts', 'Small Batch Whiskey'], ['Alcohol Gifts', 'Traditional Whiskey'], ['Whisky Alcohol Gifts', 'Whisky'], [\"Personalised Mother's Day Alcohol Gifts\", 'Famous Grouse Whiskey'], ['Alcohol Gifts', 'Glenfiddich Whiskey'], [\"Champagne Valentine's Day Alcohol Gifts\", 'The One British'], ['Gin Alcohol Gifts', 'Johnnie Walker Whiskey'], ['Sipsmith Alcohol Gifts', 'Tamdhu Whiskey'], ['Beer Hawk Alcohol Gifts', 'Glengoyne Whiskey'], ['Anniversary Gifts', 'Remy Martin Cognac'], ['Alcohol Gifts', 'Firebox Whiskey'], ['Prosecco Alcohol Gifts', 'Cases Of Wine'], ['Wine Alcohol Gifts', 'Cocktail Wine'], ['Prosecco Alcohol Gifts', 'European Wine'], ['Alcohol Gifts', 'French Wine'], ['Whisky Alcohol Gifts', 'Wine Gift Sets'], [\"Personalised Mother's Day Alcohol Gifts\", 'Italian Wine'], ['Alcohol Gifts', 'New World Wine'], [\"Champagne Valentine's Day Alcohol Gifts\", 'Port'], ['Gin Alcohol Gifts', 'Red Wine'], ['Sipsmith Alcohol Gifts', 'Rose Wine'], ['Beer Hawk Alcohol Gifts', 'White Wine'], ['Anniversary Gifts', 'Yealands Wine'], ['Alcohol Gifts', 'Mcphersons Wine'], ['Prosecco Alcohol Gifts', 'Nika Tiki Wine'], ['Wine Alcohol Gifts', 'Thornton & France Wine'], ['Prosecco Alcohol Gifts', 'Mandrarossa Wine'], ['Alcohol Gifts', 'Speakeasy Wine'], ['Whisky Alcohol Gifts', 'Madfish Wine'], [\"Personalised Mother's Day Alcohol Gifts\", 'Virgin Wines'], ['Alcohol Gifts', 'El Domador Wines'], [\"Champagne Valentine's Day Alcohol Gifts\", 'Makers & Co Wines'], ['Gin Alcohol Gifts', 'Crastro Douro Wines'], ['Sipsmith Alcohol Gifts', 'Ramon Bilbao Wines'], ['Beer Hawk Alcohol Gifts', 'Vista Alegre Wines'], ['Anniversary Gifts', 'Balloon Bouquet'], ['Alcohol Gifts', 'Large Balloons'], ['Prosecco Alcohol Gifts', 'Licensed Balloons'], ['Wine Alcohol Gifts', 'Single Balloon'], ['Prosecco Alcohol Gifts', 'Disney Balloons'], ['Alcohol Gifts', 'Peppa Pig Balloons'], ['Whisky Alcohol Gifts', 'Tatty Teddy Balloons'], [\"Personalised Mother's Day Alcohol Gifts\", 'Minions Balloons'], ['Alcohol Gifts', 'Spiderman Balloons'], [\"Champagne Valentine's Day Alcohol Gifts\", 'Bath Bombs'], [\"Valentine's Day Alcohol Gifts\", 'Bath Crumble'], ['Spirit & Liqueurs Alcohol Gifts', 'Bath Flowers'], ['Wine Alcohol Gifts', 'Bath Salts'], ['Wine Alcohol Gifts', 'Body Butter'], ['Spirit & Liqueurs Alcohol Gifts', 'Body Lotion'], ['Specialty Spirits & Cocktail Making Gift Sets', 'Body Souffle'], ['Spirit & Liqueurs Alcohol Gifts', 'Body Wash'], ['Alcohol Gifts', 'Hair Mask'], ['Wine Alcohol Gifts', 'Shower Creme'], ['Personalised Alcohol Gifts', 'Shower Gel'], ['Gin Alcohol Gifts', 'Shower Steamer'], ['Personalised Gifts', 'Soap'], ['Christmas Alcohol Gifts', 'A Pony Called Steve Body Bath'], ['Personalised Alcohol Gifts', 'All Home Everything Body Bath'], ['Christmas Alcohol Gifts', 'Banks-Lyon Botanical Body Bath'], ['Personalised Gifts', 'Bath House Body Bath'], ['Spirit & Liqueurs Alcohol Gifts', 'Baylis & Harding Body Bath'], ['Host & Hostess Alcohol Gift Ideas', 'Beefaye Body Bath'], ['Host & Hostess Alcohol Gift Ideas', 'Bloomtown Botanicals Body Bath'], ['Personalised Gifts', 'Bomb Cosmetics Body Bath'], ['Christmas Alcohol Gifts', 'Boozi Bodycare Body Bath'], ['Personalised Alcohol Gifts', 'Bubblet Body Bath'], ['Christmas Alcohol Gifts', 'Canova Body Bath'], ['Personalised Gifts', 'Fikkerts Body Bath'], ['Spirit & Liqueurs Alcohol Gifts', 'Flamingo Candles'], ['Host & Hostess Alcohol Gift Ideas', 'Face Masks'], ['Host & Hostess Alcohol Gift Ideas', 'Hair & Beauty Gifts'], ['Spirit & Liqueurs Alcohol Gifts', 'Liobalm'], ['Beer Alcohol Gifts', 'Make Up'], ['Wine Alcohol Gifts', 'Wax Lyrical'], [\"Father's Day Gifts\", 'Wild & Wolf'], [\"Valentine's Day Alcohol Gifts\", 'Woodwick'], ['Wine Alcohol Gifts', 'Hand Wash'], ['Personalised Alcohol Gifts', 'Handcream'], [\"Champagne Valentine's Day Alcohol Gifts\", 'Nail Polish'], ['Beer Alcohol Gifts', 'Haddow Group'], ['Spirit & Liqueurs Alcohol Gifts', 'Healthcote & Ivory'], ['Personalised Gifts', 'Heyland & Whittle'], ['Alcohol Gifts', 'Home Candles'], ['Beer Alcohol Gifts', 'Home Diffusers'], [\"Valentine's Day Alcohol Gifts\", 'Home Tealight'], ['Specialty Spirits & Cocktail Making Gift Sets', 'Voitive'], ['Host & Hostess Alcohol Gift Ideas', 'Katie Loxton Beauty Pouch'], ['Wine Alcohol Gifts', 'Lily Flame'], ['Alcohol Gifts', 'Love Boo'], ['Specialty Spirits & Cocktail Making Gift Sets', 'Mad Beauty'], ['Alcohol Gifts', 'Mens Aftershave Moisturiser'], ['Alcohol Gifts', 'Mens Bath Sets'], ['Christmas Alcohol Gifts', 'Mens Beard Balm'], [\"Valentine's Day Alcohol Gifts\", 'Mens Beard Oil'], ['Wine Alcohol Gifts', 'Mens Body Wash'], ['Wine Alcohol Gifts', 'Mens Conditioner'], ['Wine Alcohol Gifts', 'Mens Moustache Wax'], ['Wine Alcohol Gifts', 'Mens Pomade'], ['Spirit & Liqueurs Alcohol Gifts', 'Mens Shampoo'], ['Alcohol Gifts', 'Mens Shave Cream'], [\"Mother's Day Alcohol Gifts\", 'Mens Shaving Kits'], ['Alcohol Gifts', 'Mens Shower Gel'], ['Alcohol Gifts', 'Mens Soap'], [\"Valentine's Day Alcohol Gifts\", 'Mens Styling Wax'], ['Hogs Back Alcohol Gifts', 'Mancave Grooming Gear'], ['Beer Craft Gifts', 'Mens Melting Moments Grooming Gear'], ['Wine Alcohol Gifts', 'Miss Patisserie'], [\"Valentine's Day Alcohol Gifts\", 'Mo Bros'], ['Specialty Spirits & Cocktail Making Gift Sets', 'Northlight'], ['Wine Alcohol Gifts', 'Mens Npw Grooming Products'], ['Gin Alcohol Gifts', 'Mens Oli Olsen Grooming Products'], ['Spirit & Liqueurs Alcohol Gifts', 'Mens One House Group Grooming Products'], [\"Male Valentine's Day Alcohol Gifts\", 'Mens Slg Grooming Products'], ['Hogs Back Alcohol Gifts', 'Mens Soul & Soap Grooming Products'], ['Gin Alcohol Gifts', 'Mens Sunnylife Grooming Products'], ['Wine Personalised Alcohol Gifts', 'Mens Scottish Fine Soaps Company'], ['Hogs Back Alcohol Gifts', 'Mens Uppercut Grooming Products'], [\"Champagne Valentine's Day Alcohol Gifts\", 'Mens Wahls Grooming Products'], ['Christmas Alcohol Gifts', 'Biscuits'], [\"Champagne Valentine's Day Alcohol Gifts\", 'Biscuit Selections'], ['Champagne Alcohol Gifts', 'Chocolate Biscuits'], ['Spirit & Liqueurs Alcohol Gifts', 'Macroons'], ['Alcohol Gifts', 'Savoury Biscuits'], ['Wine Personalised Alcohol Gifts', 'Shortbread'], [\"Mother's Day Alcohol Gifts\", 'House Of Sarunds'], ['Alcohol Gifts', 'Shortbread House Of Edinburgh'], ['Wine Alcohol Gifts', 'Mooredale Foods'], [\"Mother's Day Alcohol Gifts\", 'Alcoholic Cakes'], ['Prosecco Alcohol Gifts', 'Birthday Cakes'], ['Alcohol Gifts', 'Brownie'], [\"Valentine's Day Alcohol Gifts\", 'Cakes For Sharing'], ['Set Gifts', 'Chocolate'], ['Beer Craft Gifts', 'Fruit Cake'], [\"Valentine's Day Alcohol Gifts\", 'Sponge Cake'], [\"Mother's Day Alcohol Gifts\", 'Meg Rivers Cakes'], ['Wine Alcohol Gifts', 'Sponge Cakes'], [\"Male Valentine's Day Alcohol Gifts\", 'Desserts Delivered Bakery'], [\"Male Valentine's Day Alcohol Gifts\", 'Alcoholic Chocolates'], ['Christmas Alcohol Gifts', 'Assorted Chocolates'], ['Spirit & Liqueurs Alcohol Gifts', 'Chocolate Bars'], ['Alcohol Gifts', 'Chocolate Boxes'], ['Alcohol Gifts', 'Chocolate Gifts'], ['Alcohol Gifts', 'Chocolate Hampers'], ['Champagne Alcohol Gifts', 'Dark Chocolate'], [\"Male Valentine's Day Alcohol Gifts\", 'Milk Chocolate'], ['Wine Alcohol Gifts', 'Truffles'], [\"Male Valentine's Day Alcohol Gifts\", 'White Chocolate'], ['Alcohol Gifts', 'Cocoba'], ['Christmas Alcohol Gifts', 'Coco Chocalatier'], ['Wine Personalised Alcohol Gifts', 'Cartwright & Butler'], [\"Mother's Day Alcohol Gifts\", \"James' Chocolate\"], ['Alcohol Gifts', 'Courvoisier'], ['Wine Personalised Alcohol Gifts', 'Famous Grouse Whiskey'], ['Christmas Alcohol Gifts', 'Thorntons Chocolate'], ['Spirit & Liqueurs Alcohol Gifts', 'Charbonnel Et Walker'], ['Spirit & Liqueurs Alcohol Gifts', \"Willie'S Cacao Chocolate\"], [\"Valentine's Day Alcohol Gifts\", 'Anthon Berg Chocolate'], ['Champagne Alcohol Gifts', 'Pralibel Chocolate'], [\"Male Valentine's Day Alcohol Gifts\", 'Guylian Chocolate'], [\"Valentine's Day Alcohol Gifts\", 'Montezuma Chocolate'], ['Alcohol Gifts', 'Lindt Chocolate'], ['Champagne Alcohol Gifts', 'Pana Chocolate'], ['Alcohol Gifts', 'Coffee Lovers'], [\"Valentine's Day Alcohol Gifts\", 'Novalty Coffee'], [\"Valentine's Day Alcohol Gifts\", 'Whittards Coffee'], [\"Valentine's Day Alcohol Gifts\", 'Firebox Coffee'], [\"Valentine's Day Alcohol Gifts\", 'Bbq Spices & Marinades'], ['Prosecco Alcohol Gifts', 'Chilli Sauces'], ['Set Gifts', 'Condiments & Preserves'], ['Alcohol Gifts', 'Hot Sauces'], [\"Valentine's Day Alcohol Gifts\", 'Indian Spices & Marinades'], ['Champagne Alcohol Gifts', 'Upton Chilli Farm'], ['Alcohol Gifts', 'Manfood Spices & Marinades'], ['Alcohol Gifts', 'Snaffling Pig Spices & Marinades'], ['Christmas Alcohol Gifts', 'Rubbies In The Rubble Marinade'], ['Alcohol Gifts', 'Scarless & Mustard Marinade'], [\"Valentine's Day Alcohol Gifts\", 'Ross & Ross Marinade'], ['Alcohol Gifts', 'World Of Zing Marinade'], ['Alcohol Gifts', 'Cartwright & Butler Marinade'], [\"Valentine's Day Alcohol Gifts\", 'Afternoon Tea Hampers'], ['Christmas Alcohol Gifts', 'Alcohol Hampers'], ['Alcohol Gifts', 'Bbq Hampers'], ['Alcohol Gifts', 'Cheese Hampers'], [\"Male Valentine's Day Alcohol Gifts\", 'Chocolate'], ['Alcohol Gifts', 'Christmas Hampers'], ['Alcohol Gifts', 'Corporate Hampers'], [\"Male Valentine's Day Alcohol Gifts\", 'Salted Caramel Hampers'], ['Prosecco Alcohol Gifts', 'Spring Food Hampers'], [\"Valentine's Day Alcohol Gifts\", 'Sweet Hampers'], [\"Valentine's Day Alcohol Gifts\", 'Hamper Trays'], ['Prosecco Alcohol Gifts', 'Whiskey Hampers'], ['Prosecco Alcohol Gifts', 'Wick Hampers'], ['Alcohol Gifts', 'Wine Hampers'], [\"Male Valentine's Day Alcohol Gifts\", 'Cartwright & Butler Hampers'], ['Alcohol Gifts', 'World Of Zing Hampers'], ['Alcohol Gifts', 'Thornton & France Hampers'], [\"Male Valentine's Day Alcohol Gifts\", 'Make Your Own Cake'], [\"Valentine's Day Alcohol Gifts\", 'Make Your Own Cocktail'], [\"Valentine's Day Alcohol Gifts\", 'Make Your Own Drinks'], [\"Valentine's Day Alcohol Gifts\", 'Make Your Own Food'], ['Alcohol Gifts', 'Make Your Own Fudge'], [\"Valentine's Day Alcohol Gifts\", 'Make Your Own Tea'], [\"Valentine's Day Alcohol Gifts\", 'Make Your Own Uberstar'], [\"Valentine's Day Alcohol Gifts\", 'Make Your Own Bakedin'], [\"Valentine's Day Alcohol Gifts\", 'Make Your Own Fudge Kitchen'], ['Christmas Alcohol Gifts', 'Make Your Own Firebox'], [\"Valentine's Day Alcohol Gifts\", 'Personalised Champagne'], ['Christmas Alcohol Gifts', 'Personalised Prosecco'], ['Christmas Alcohol Gifts', 'Personalised Wine'], ['Christmas Alcohol Gifts', 'Boild Sweets'], ['Alcohol Gifts', 'Brittle Sweets'], ['Alcohol Gifts', 'Candy Sweets'], [\"Valentine's Day Alcohol Gifts\", 'Fizzy Sweets'], [\"Valentine's Day Alcohol Gifts\", 'Fudge Sweets'], [\"Valentine's Day Alcohol Gifts\", 'Jelly Beans'], [\"Valentine's Day Alcohol Gifts\", 'Jelly Sweets'], [\"Valentine's Day Alcohol Gifts\", 'Occasian Sweets'], [\"Valentine's Day Alcohol Gifts\", 'Personalised Sweets'], [\"Valentine's Day Alcohol Gifts\", 'Retro Sweets'], [\"Valentine's Day Alcohol Gifts\", 'Toffee Sweets'], [\"Valentine's Day Alcohol Gifts\", 'Sweets In The City'], [\"Valentine's Day Alcohol Gifts\", 'Fudge Kitchen'], [\"Valentine's Day Alcohol Gifts\", 'Cartwright & Butler Sweets'], [\"Valentine's Day Alcohol Gifts\", 'Jelly Bean Sweets'], [\"Valentine's Day Alcohol Gifts\", 'Treat Kitchen Sweets'], [\"Valentine's Day Alcohol Gifts\", 'Famous Grouse Sweets'], [nan, 'Gourmet Sweets'], [nan, 'Organic Tea'], [nan, 'Tea & Biscuits'], [nan, 'Tea Gifts'], [nan, 'Cartwright & Butler Tea'], [nan, 'English Tea Shop'], [nan, 'Whittards Tea'], [nan, 'Bed Socks'], [nan, 'Cosmetic Bag'], [nan, 'Eye Mask'], [nan, 'Jewellery Box'], [nan, 'Keyring'], [nan, 'Make Up Bag'], [nan, 'Make Up Brush Holder'], [nan, 'Make Up Brushes'], [nan, 'Purse'], [nan, 'Travel Wallet'], [nan, 'Abrams & Chronicle Accessories'], [nan, 'Blueprint Accessories'], [nan, 'Bombay Duck Accessories'], [nan, 'Bookspeed Accessories'], [nan, 'Burgon & Ball Accessories'], [nan, 'Burgon And Ball Accessories'], [nan, 'Canova Accessories'], [nan, 'Caroline Gardner Accessories'], [nan, 'Firebox Accessories'], [nan, 'Fizz Creation Accessories'], [nan, 'Cocktail Books'], [nan, 'Cook Books'], [nan, 'Lifestyle Books'], [nan, 'Love Island Books'], [nan, 'Top Tips Books'], [nan, 'Champagne Flutes'], [nan, 'Cocktail Sets'], [nan, 'Drink Stirrers'], [nan, 'Ice Buckets'], [nan, 'Prosseco Pong'], [nan, 'Thermal Flasks'], [nan, 'Travel Flasks'], [nan, 'Water Bottles'], [nan, 'Wine Glasses'], [nan, 'Challenge Cards'], [nan, 'Guess Who Games'], [nan, 'Pass The Parcel Game'], [nan, 'Trivia Games'], [nan, 'Truth Or Dare Games'], [nan, 'Coaster Gifts'], [nan, 'Cushions'], [nan, 'Dessert Spoons'], [nan, 'Egg Cups'], [nan, 'Money Boxes'], [nan, 'Photoframes'], [nan, 'Salt & Pepper Sets'], [nan, 'Snowglobes'], [nan, 'Trinket Dishs'], [nan, 'Trinket Jars'], [nan, 'Vases'], [nan, 'Wedding Tokens'], [nan, 'Gift Republic'], [nan, 'Ginger Ray Gifts'], [nan, 'Go10 Limited Gifts'], [nan, 'Half Moon Bay Gifts'], [nan, 'House Of Disaster Gifts'], [nan, 'Katie Loxton Gifts'], [nan, 'Mustard Gifts'], [nan, 'Npw Gifts'], [nan, 'Paladone Gifts'], [nan, 'Portico Gifts'], [nan, 'Rhodawn Lts T/A Bookspeed'], [nan, 'Rjb Stone T/A Sass And Bell'], [nan, 'Stacking Mugs'], [nan, 'Tea For One'], [nan, 'Gardening Sets'], [nan, 'Gardening Tools'], [nan, 'Grow Your Own'], [nan, 'Plant Pots'], [nan, 'Seed Sets'], [nan, 'Earbuds'], [nan, 'Fairylights'], [nan, 'Headphones'], [nan, 'Lamps'], [nan, 'Lightboxes'], [nan, 'Mirror Powerbanks'], [nan, 'Music Players'], [nan, 'Neon Wall Lights'], [nan, 'Portable Stereoes'], [nan, 'Powerbanks'], [nan, 'Speakers'], [nan, 'String Lights'], [nan, 'Usb Chargers'], [nan, 'Wall Lights'], [nan, 'Sass & Belle'], [nan, 'Seedbom'], [nan, 'Seedbomb'], [nan, 'Slg'], [nan, 'Sunnylife'], [nan, 'Talking Tables'], [nan, 'Thumbs Up'], [nan, 'Venom'], [nan, 'Widdop & Co'], [nan, 'Wild & Wolf'], [nan, 'Inflight Kits'], [nan, 'Luggage Tags'], [nan, 'Passport Covers'], [nan, 'Travel Size Bottles'], [nan, 'Travel Wallers'], [nan, 'Food & Drink'], [nan, 'Gardening Books'], [nan, 'Humour Books'], [nan, 'Travel & Outdoors'], [nan, 'Little Hampton Books'], [nan, 'Halfmoon Bay'], [nan, 'Bookspeed'], [nan, 'Jeray'], [nan, 'Beer Glasses'], [nan, 'Beer Pong'], [nan, 'Cocktail Sets'], [nan, 'Decanters'], [nan, 'Drinking Games'], [nan, 'Hip Flasks'], [nan, 'Novelty Glassware'], [nan, 'Pong Wars'], [nan, 'Shot Glasses'], [nan, 'Shot Pong'], [nan, 'Water Bottles'], [nan, 'Whisky Stones'], [nan, 'Wild & Wolf'], [nan, 'Thumbs Up'], [nan, 'Paladone'], [nan, 'Lagoon'], [nan, 'Talking Tables'], [nan, 'Esdevium Games'], [nan, 'Professor Puzzle'], [nan, 'Turnaround Gifts'], [nan, 'The Source'], [nan, 'Hacche'], [nan, 'Gift Republic'], [nan, 'Big Potato'], [nan, 'Board Games'], [nan, 'Card Games'], [nan, 'Drinking Games'], [nan, 'Family Games'], [nan, 'Party Games'], [nan, 'Pass The Parcel'], [nan, 'Quiz'], [nan, 'Trivia'], [nan, 'Halfmoon Bay'], [nan, 'Fizz Creations'], [nan, 'Tribe'], [nan, 'Seed Pantry'], [nan, 'Carlton Books'], [nan, 'Robert Frederick'], [nan, 'Blue Sky'], [nan, 'Cubic'], [nan, 'Bookends'], [nan, 'Coasters'], [nan, 'Egg Cups'], [nan, 'Lights'], [nan, 'Peg Boards'], [nan, 'Bath Ducks'], [nan, 'Bbq Hampers'], [nan, 'Construction Kits'], [nan, 'Egg Cup & Toast Cutters'], [nan, 'Gadget Gift Sets'], [nan, 'Glass Tumblers'], [nan, 'Glasses'], [nan, 'Heat Changing Mugs'], [nan, 'Hip Flasks'], [nan, 'Lights'], [nan, 'Money Boxes'], [nan, 'Mugs'], [nan, 'Multi Tools'], [nan, 'Slush Puppy Makers'], [nan, 'Travel Cups'], [nan, 'Wallets'], [nan, 'Paladone'], [nan, 'Gpo'], [nan, 'Thumbs Up'], [nan, 'Kondor'], [nan, 'Luckies Gadgets'], [nan, 'Maps International'], [nan, 'Haynes Gifts'], [nan, 'Top Gear Gifts'], [nan, 'Mr Men (For Grown Ups) Gifts'], [nan, 'Game Of Thrones Gifts'], [nan, 'Star Wars Gifts'], [nan, 'Gentlemans Hardware'], [nan, 'Ladybird Gifts'], [nan, 'Final Touch Gifts'], [nan, 'Cards Against Humanity'], [nan, 'Love Island Gifts'], [nan, 'Make Your Own Construction Kits'], [nan, 'Make Your Own Metal Models'], [nan, 'Make Your Own Neon Light'], [nan, 'Space Invaders Gifts'], [nan, 'Slush Puppy'], [nan, 'Disney Gifts'], [nan, 'Heat Changing Mugs'], [nan, 'Novelty Mugs'], [nan, 'Batman Mugs'], [nan, 'Harry Potter Mugs'], [nan, 'Egg Cups'], [nan, 'Toilet Humour'], [nan, 'Gardening Sets'], [nan, 'Grow Your Own Gifts'], [nan, 'Multi Tools'], [nan, 'Marvel Gifts'], [nan, 'Volkwagen Gifts'], [nan, 'Spiderman Gifts'], [nan, 'Boom Boxes'], [nan, 'Drone Gifts'], [nan, 'Earbuds'], [nan, 'Food & Drink'], [nan, 'Headphones'], [nan, 'Hobbies'], [nan, 'Radios'], [nan, 'Record Players'], [nan, 'Remote Control Toys'], [nan, 'Retro Gaming'], [nan, 'Speakers & Audio'], [nan, 'Sporty Tech'], [nan, 'Travel Tech'], [nan, 'Gift Boxes'], [nan, 'Gift Experiences'], [nan, 'Smartbox Gifts'], [nan, 'Bracelets'], [nan, 'Keyring'], [nan, 'Small Leather Goods'], [nan, 'Bangles'], [nan, 'Cord Bracelets'], [nan, 'Gold Necklaces'], [nan, 'Rose Gold Necklaces'], [nan, 'Silver Necklaces'], [nan, 'Gold Cufflinks'], [nan, 'Pattern Cufflinks'], [nan, 'Silver Cufflinks'], [nan, 'Gold Earrings'], [nan, 'Silver Earrings'], [nan, 'Posh Totty Jewellery'], [nan, 'Joma Jewellery'], [nan, 'Elie Beaumont Watches'], [nan, 'Gold Necklaces'], [nan, 'Rose Gold Necklaces'], [nan, 'Silver Necklaces'], [nan, 'Ring Sets'], [nan, 'Rings'], [nan, 'Necklace And Earrings Set'], [nan, 'Mens Watches'], [nan, 'Womens Watches'], [nan, 'Animal Soft Toys'], [nan, 'Bear Soft Toys'], [nan, 'Soft Toy Characters'], [nan, 'Dinosaur And Monster Soft Toys'], [nan, 'Dog Soft Toys'], [nan, 'Farm Animal Soft Toys'], [nan, 'Soft Toy Gift Sets'], [nan, 'Interactive Soft Toys'], [nan, 'Jungle Animal Soft Toys'], [nan, 'Jungle Animal Soft Toys'], [nan, 'Monkey Soft Toys'], [nan, 'Puppet Soft Toys'], [nan, 'Rabbit Soft Toys'], [nan, 'Unicorn Soft Toys'], [nan, 'Carte Blanche Soft Toys'], [nan, 'Ty Soft Toys'], [nan, 'Rainbow Designs Soft Toys'], [nan, 'Manhattan Toy Company Soft Toys'], [nan, 'Best Years Soft Toys'], [nan, 'Juratoys Soft Toys'], [nan, 'Asobi Soft Toys'], [nan, 'Bookspeed Soft Toys'], [nan, 'Igloo Soft Toys'], [nan, 'Aurora Soft Toys'], [nan, 'Posh Paws Soft Toys'], [nan, 'Sambro Soft Toys'], [nan, 'Me To You Soft Toys'], [nan, 'Paddington Soft Toys'], [nan, 'Spiderman Soft Toys'], [nan, 'Minions Soft Toys'], [nan, 'Paw Patrol Soft Toys'], [nan, 'Star Wars Soft Toys'], [nan, 'My Little Pony Soft Toys'], [nan, 'Peppa Pig Soft Toys'], [nan, 'Sesame Street Soft Toys'], [nan, 'Disney Soft Toys'], [nan, 'Beanie Boos Soft Toys'], [nan, 'Beatrix Potter Soft Toys'], [nan, 'Kaloodoo Soft Toys'], [nan, 'Hungry Caterpillar Soft Toys'], [nan, 'The Gruffalo Soft Toys'], [nan, 'Dear Zoo Soft Toys'], [nan, 'Guess How Much I Love You Soft Toys'], [nan, 'Decision Pens'], [nan, 'Desk Planners'], [nan, 'Essentials Sets'], [nan, 'Highlighters'], [nan, 'Pencilcases'], [nan, 'Sticky Notes'], [nan, 'Tooling Pens'], [nan, 'Go Stationery'], [nan, 'Half Moon Bay'], [nan, 'Littlehampton Book Services'], [nan, 'Make Arcade'], [nan, 'Npw Stationery'], [nan, 'Oli Olsen Stationery'], [nan, 'Paladone Stationery'], [nan, 'Colouring Books'], [nan, 'Colouring Pencils'], [nan, 'Journals'], [nan, 'Keepsake Books'], [nan, 'Portico'], [nan, 'Rhodawn Ltd T/A Bookspeed'], [nan, 'Stitch & Story'], [nan, 'Widdop & Co'], [nan, 'Cross Stitch Kits'], [nan, 'Felt Kits'], [nan, 'Knitting Kits'], [nan, 'Notepads'], [nan, 'Blueprint'], [nan, 'Fill In The Book'], [nan, 'Letters To My'], [nan, 'Vouchers'], [nan, 'Diaries'], [nan, 'Journals'], [nan, 'List Pads'], [nan, 'Organisers'], [nan, 'Planners'], [nan, 'Recipe Organisers'], [nan, 'To Do Lists'], [nan, 'Wedding Planners'], [nan, 'Abrams And Chronicle'], [nan, 'Blue Sky'], [nan, 'Blueprint'], [nan, 'Bookspeed'], [nan, 'Brown Trout Publishing'], [nan, 'Caroline Gardner Stationery'], [nan, 'Corinne Lapierre Stationery'], [nan, 'Ginger Ray Stationery'], [nan, 'Stationery Sets'], [nan, 'Wild & Wolf Stationery'], [nan, 'Build Your Own Toys & Games'], [nan, 'Construction Toys & Games'], [nan, 'Design Your Own Toys & Games'], [nan, 'Dolls Houses'], [nan, 'Grow Your Own'], [nan, 'Robert Frederick'], [nan, 'Bertoy'], [nan, 'Kokomo'], [nan, 'Sunnylife'], [nan, 'Ty Toys'], [nan, 'Card Making'], [nan, 'Dough Kits'], [nan, 'Fashion Craft'], [nan, 'Jewellery Making'], [nan, 'Mould & Paint'], [nan, 'Painting'], [nan, 'Scrapbooks'], [nan, 'Scratch Art'], [nan, 'Sewing Kits'], [nan, 'Professor Puzzle'], [nan, 'Bladez Toyz'], [nan, 'Bookspeed Toys'], [nan, 'Littlehampton Books'], [nan, 'Beatrix Potter'], [nan, 'Thomas The Tank Engine Toys'], [nan, 'Hungry Caterpillar Toys'], [nan, 'Petit Collage'], [nan, 'In The Night Garden'], [nan, 'Baby & Pre School Activity Toys'], [nan, 'Baby & Pre School Puzzles'], [nan, 'Baby & Pre School Rattles'], [nan, 'Baby & Pre School Stacking Blocks'], [nan, 'Baby & Pre School Stacking Rings'], [nan, 'Baby & Pre School Teethers'], [nan, 'Baby & Pre School Rainbow Designs'], [nan, 'Baby & Pre School 1 Two Kids Toys'], [nan, 'Baby & Pre School Skip Hop Toys'], [nan, 'Baby & Pre School Wild & Wolf Toys'], [nan, 'Baby & Pre School Hacche Toys'], [nan, 'Baby & Pre School Manhattan Toys'], [nan, 'Backpacks'], [nan, 'Filled Backpacks'], [nan, 'Novelty Backpacks'], [nan, 'Kidz Labs Backpacks'], [nan, 'National Geographic Backpacks'], [nan, 'Minions Backpacks'], [nan, 'Bath Stickers Backpacks'], [nan, 'Bath Toys'], [nan, 'Biscuit/Cookie Kits'], [nan, 'Cake Kits'], [nan, 'Sweet Kits'], [nan, 'Milly & Flynn Baking Kits'], [nan, 'My Little Pony Baking Kits'], [nan, 'Jo Jo Bows Baking Kits'], [nan, 'Paw Patrol Baking Kits'], [nan, 'Discovery Channel Baking Kits'], [nan, 'Books'], [nan, 'Pocket Libraries'], [nan, 'Art Sets'], [nan, 'Colour-In Backpacks'], [nan, 'Colour-In Fancy Dresses'], [nan, 'Colouring Sets'], [nan, 'Batman Colouring Toys & Games'], [nan, 'Little Miss Colouring Toys & Games'], [nan, 'The Gruffalo Colouring Toys & Games'], [nan, 'Natural History Museum Colouring Toys & Games'], [nan, 'Childrens Games'], [nan, 'Family Games'], [nan, 'Jigsaws & Puzzles'], [nan, 'Sports Games'], [nan, 'Bookends'], [nan, 'Booties'], [nan, 'Dining Sets'], [nan, 'Handprint Gift Sets'], [nan, 'Height Charts'], [nan, 'Jewellery Boxs'], [nan, 'Money Boxes'], [nan, 'Musical Toys'], [nan, 'Photo Albums'], [nan, 'Photo Cards'], [nan, 'Photo Frames'], [nan, 'Snowglobes'], [nan, 'Trinket Boxes'], [nan, 'Npw Keepsakes'], [nan, 'Sambro Keepsakes'], [nan, 'Esdevium Games Ltd. Keepsakes'], [nan, 'House Of Disaster Keepsakes'], [nan, 'Smiling Faces Keepsakes'], [nan, 'Rex International Keepsakes'], [nan, 'Atelier Home & Gift'], [nan, 'Baked In'], [nan, 'Bkd Keepsakes'], [nan, 'Lagoon Keepsakes'], [nan, 'The Source Keepsakes'], [nan, 'Bandai Keepsakes'], [nan, 'Eggnog Keepsakes'], [nan, 'Kids Bedroom Bookends'], [nan, 'Kids Bedroom Clocks'], [nan, 'Kids Bedroom Jewellery Boxes'], [nan, 'Kids Bedroom Lights'], [nan, 'Kids Bedroom Money Boxes'], [nan, 'Kids Bedroom Money Boxes'], [nan, 'Kids Bedroom Photo Frames'], [nan, 'Peppa Pig For Kids Bedrooms'], [nan, 'Paddington For Kids Bedrooms'], [nan, 'Mr Men For Kids Bedrooms'], [nan, 'Winnie The Pooh For Kids Bedrooms'], [nan, 'Dear Zoo For Kids Bedrooms'], [nan, 'Janod For Kids Bedrooms'], [nan, 'Guess How Much I Love You For Kids Bedrooms'], [nan, 'Garden Toys & Games'], [nan, 'Kites'], [nan, 'Swim Sets'], [nan, 'Tents'], [nan, 'Water Toys'], [nan, 'Spiderman Outdoor Toys & Games'], [nan, 'Me To You Outdoor Toys & Games'], [nan, 'Build Your Own Science & Tech'], [nan, 'Robots'], [nan, 'Science & Nature'], [nan, 'Disney Science & Tech'], [nan, 'Sophie La Girafe Science & Tech'], [nan, 'Tatty Teddy Science & Tech'], [nan, 'Musical Toys'], [nan, 'Wooden Bead Frames'], [nan, 'Wooden Blocks'], [nan, 'Wooden Dominos'], [nan, 'Wooden Games'], [nan, 'Wooden Play Sets'], [nan, 'Wooden Pull Toys'], [nan, 'Wooden Push Along'], [nan, 'Wooden Puzzles'], [nan, 'Wooden Shape Sorter'], [nan, 'Wooden Skittles'], [nan, 'Wooden Stacking Toys'], [nan, 'Wooden Trains'], [nan, 'Wooden Vehicles'], [nan, 'Orange Tree Toys'], [nan, 'Inside Out Toys'], [nan, 'Juratoys'], [nan, 'Buttonbag'], [nan, 'Sasse & Belle'], [nan, 'Widdop'], [nan, 'Carte Blanche'], [nan, 'Aurora'], [nan, 'Paladone'], [nan, 'Apples & Pears'], [nan, 'Marresa'], [nan, 'Great Gizmos'], [nan, 'Clockwork Soldier'], [nan, 'Gift Republic']]\n"
          ],
          "name": "stdout"
        }
      ]
    },
    {
      "cell_type": "markdown",
      "metadata": {
        "id": "XfO1b4QJONUf",
        "colab_type": "text"
      },
      "source": [
        "**Define Embedder Function**"
      ]
    },
    {
      "cell_type": "code",
      "metadata": {
        "id": "uhpv7FHkOL1h",
        "colab_type": "code",
        "colab": {}
      },
      "source": [
        "def embedder(array):\n",
        "  embedding = embed(array)\n",
        "  \n",
        "  with tf.Session() as sess:\n",
        "    sess.run(tf.global_variables_initializer())\n",
        "    sess.run(tf.tables_initializer())\n",
        "    \n",
        "    return sess.run(embedding)"
      ],
      "execution_count": 0,
      "outputs": []
    },
    {
      "cell_type": "markdown",
      "metadata": {
        "id": "efPWI974B5T0",
        "colab_type": "text"
      },
      "source": [
        "**Embedd Data**"
      ]
    },
    {
      "cell_type": "code",
      "metadata": {
        "id": "98h2_kG6Aft9",
        "colab_type": "code",
        "outputId": "7c05fe4e-bc8d-4dbe-bbf1-605a524b9b05",
        "colab": {
          "base_uri": "https://localhost:8080/",
          "height": 85
        }
      },
      "source": [
        "oldh1s_embedded = embedder(clean_old_h1)\n",
        "newh1s_embedded = embedder(clean_new_h1)"
      ],
      "execution_count": 8,
      "outputs": [
        {
          "output_type": "stream",
          "text": [
            "INFO:tensorflow:Saver not created because there are no variables in the graph to restore\n"
          ],
          "name": "stdout"
        },
        {
          "output_type": "stream",
          "text": [
            "INFO:tensorflow:Saver not created because there are no variables in the graph to restore\n"
          ],
          "name": "stderr"
        },
        {
          "output_type": "stream",
          "text": [
            "INFO:tensorflow:Saver not created because there are no variables in the graph to restore\n"
          ],
          "name": "stdout"
        },
        {
          "output_type": "stream",
          "text": [
            "INFO:tensorflow:Saver not created because there are no variables in the graph to restore\n"
          ],
          "name": "stderr"
        }
      ]
    },
    {
      "cell_type": "markdown",
      "metadata": {
        "id": "aLOZVGUdLP-x",
        "colab_type": "text"
      },
      "source": [
        "**reset graph**"
      ]
    },
    {
      "cell_type": "code",
      "metadata": {
        "id": "UELVH3jmLOTL",
        "colab_type": "code",
        "colab": {}
      },
      "source": [
        "tf.reset_default_graph()"
      ],
      "execution_count": 0,
      "outputs": []
    },
    {
      "cell_type": "markdown",
      "metadata": {
        "id": "BzMHg01YNFuZ",
        "colab_type": "text"
      },
      "source": [
        "**Define Similarity Function (updated)**"
      ]
    },
    {
      "cell_type": "code",
      "metadata": {
        "id": "MIEARA26NDGf",
        "colab_type": "code",
        "outputId": "5cfdba30-73c6-4919-d6b1-60a2bbc9587b",
        "colab": {
          "base_uri": "https://localhost:8080/",
          "height": 119
        }
      },
      "source": [
        "\n",
        "old = tf.placeholder(dtype=tf.float32, shape=(512,))\n",
        "new = tf.placeholder(dtype=tf.float32, shape=(None,512))\n",
        "\n",
        "similarities = tf.reduce_sum(tf.multiply(\n",
        "      tf.nn.l2_normalize(old), \n",
        "      tf.nn.l2_normalize(new, axis=1)), axis=1)\n",
        "\n",
        "index_of_most_similar = tf.arg_max(similarities, 0)\n",
        "\n",
        "def find_similarity(old_, new_, sess):\n",
        "    \n",
        "    return sess.run([similarities, index_of_most_similar], feed_dict = {\n",
        "        old: old_,\n",
        "        new: new_\n",
        "    })"
      ],
      "execution_count": 10,
      "outputs": [
        {
          "output_type": "stream",
          "text": [
            "WARNING:tensorflow:From <ipython-input-10-b0724885880d>:9: arg_max (from tensorflow.python.ops.gen_math_ops) is deprecated and will be removed in a future version.\n",
            "Instructions for updating:\n",
            "Use `tf.math.argmax` instead\n"
          ],
          "name": "stdout"
        },
        {
          "output_type": "stream",
          "text": [
            "WARNING:tensorflow:From <ipython-input-10-b0724885880d>:9: arg_max (from tensorflow.python.ops.gen_math_ops) is deprecated and will be removed in a future version.\n",
            "Instructions for updating:\n",
            "Use `tf.math.argmax` instead\n"
          ],
          "name": "stderr"
        }
      ]
    },
    {
      "cell_type": "markdown",
      "metadata": {
        "id": "B6T0urtlNwIG",
        "colab_type": "text"
      },
      "source": [
        "**Start tf session and run**"
      ]
    },
    {
      "cell_type": "code",
      "metadata": {
        "id": "YOpA7s-OTKDm",
        "colab_type": "code",
        "outputId": "5c233dcb-af99-4a10-e19e-6cacf7cd73ae",
        "colab": {
          "base_uri": "https://localhost:8080/",
          "height": 54
        }
      },
      "source": [
        "'''\n",
        "nw_urls = []\n",
        "nw_h1 = []\n",
        "prv_urls = []\n",
        "prv_h1 = []\n",
        "ex_nw_h1 = []\n",
        "ex_nw_urls = []\n",
        "ex_prv_urls = []\n",
        "ex_prv_h1 = []\n",
        "non_nw_h1 = []\n",
        "non_nw_urls = []\n",
        "non_prv_urls = []\n",
        "non_prv_h1 = []\n",
        "\n",
        "with tf.Session() as sess:\n",
        "    sess.run(tf.global_variables_initializer())\n",
        "    sess.run(tf.tables_initializer())\n",
        "\n",
        "    for i in tqdm(range(len(oldh1s_embedded))):\n",
        "      #print (\"processing 'old' value {} of {}\".format(i, len(oldh1s_embedded)))\n",
        "      similarities_, argmax = find_similarity(oldh1s_embedded[i], newh1s_embedded, sess)\n",
        "      #print(\"most similar value: {} found at index {} of new_similarities\".format(similarities_[argmax],argmax))\n",
        "      #print(f\"The h1s being compared are {old_h1s[i]} to {new_h1s[argmax]}\")\n",
        "      \n",
        "      if similarities_[argmax] >= 0.95:\n",
        "        \n",
        "        ex_nw_urls.append(new_urls[argmax])\n",
        "        ex_nw_h1.append(new_h1s[argmax])  \n",
        "        ex_prv_urls.append(old_urls[i])\n",
        "        ex_prv_h1.append(old_h1s[i])\n",
        "        \n",
        "      elif 0.95 > similarities_[argmax] >= 0.7:\n",
        "        \n",
        "        nw_urls.append(new_urls[argmax])\n",
        "        nw_h1.append(new_h1s[argmax])  \n",
        "        prv_urls.append(old_urls[i])\n",
        "        prv_h1.append(old_h1s[i])\n",
        "        \n",
        "      else:\n",
        "        \n",
        "        non_nw_urls.append(new_urls[argmax])\n",
        "        non_nw_h1.append(new_h1s[argmax])  \n",
        "        non_prv_urls.append(old_urls[i])\n",
        "        non_prv_h1.append(old_h1s[i])\n",
        " '''"
      ],
      "execution_count": 11,
      "outputs": [
        {
          "output_type": "execute_result",
          "data": {
            "text/plain": [
              "'\\nnw_urls = []\\nnw_h1 = []\\nprv_urls = []\\nprv_h1 = []\\nex_nw_h1 = []\\nex_nw_urls = []\\nex_prv_urls = []\\nex_prv_h1 = []\\nnon_nw_h1 = []\\nnon_nw_urls = []\\nnon_prv_urls = []\\nnon_prv_h1 = []\\n\\nwith tf.Session() as sess:\\n    sess.run(tf.global_variables_initializer())\\n    sess.run(tf.tables_initializer())\\n\\n    for i in tqdm(range(len(oldh1s_embedded))):\\n      #print (\"processing \\'old\\' value {} of {}\".format(i, len(oldh1s_embedded)))\\n      similarities_, argmax = find_similarity(oldh1s_embedded[i], newh1s_embedded, sess)\\n      #print(\"most similar value: {} found at index {} of new_similarities\".format(similarities_[argmax],argmax))\\n      #print(f\"The h1s being compared are {old_h1s[i]} to {new_h1s[argmax]}\")\\n      \\n      if similarities_[argmax] >= 0.95:\\n        \\n        ex_nw_urls.append(new_urls[argmax])\\n        ex_nw_h1.append(new_h1s[argmax])  \\n        ex_prv_urls.append(old_urls[i])\\n        ex_prv_h1.append(old_h1s[i])\\n        \\n      elif 0.95 > similarities_[argmax] >= 0.7:\\n        \\n        nw_urls.append(new_urls[argmax])\\n        nw_h1.append(new_h1s[argmax])  \\n        prv_urls.append(old_urls[i])\\n        prv_h1.append(old_h1s[i])\\n        \\n      else:\\n        \\n        non_nw_urls.append(new_urls[argmax])\\n        non_nw_h1.append(new_h1s[argmax])  \\n        non_prv_urls.append(old_urls[i])\\n        non_prv_h1.append(old_h1s[i])\\n '"
            ]
          },
          "metadata": {
            "tags": []
          },
          "execution_count": 11
        }
      ]
    },
    {
      "cell_type": "code",
      "metadata": {
        "id": "xfV_JqKzR3oB",
        "colab_type": "code",
        "outputId": "57b2f72c-e185-4fef-e6b2-b1efcd73a213",
        "colab": {
          "base_uri": "https://localhost:8080/",
          "height": 34
        }
      },
      "source": [
        "\n",
        "nw_urls = []\n",
        "nw_h1 = []\n",
        "prv_urls = []\n",
        "prv_h1 = []\n",
        "\n",
        "\n",
        "with tf.Session() as sess:\n",
        "    sess.run(tf.global_variables_initializer())\n",
        "    sess.run(tf.tables_initializer())\n",
        "\n",
        "    for i in tqdm(range(len(oldh1s_embedded))):\n",
        "      #print (\"processing 'old' value {} of {}\".format(i, len(oldh1s_embedded)))\n",
        "      similarities_, argmax = find_similarity(oldh1s_embedded[i], newh1s_embedded, sess)\n",
        "      #print(\"most similar value: {} found at index {} of new_similarities\".format(similarities_[argmax],argmax))\n",
        "      #print(f\"The h1s being compared are {old_h1s[i]} to {new_h1s[argmax]}\")\n",
        "\n",
        "      nw_urls.append(new_urls[argmax])\n",
        "      nw_h1.append(new_h1s[argmax])  \n",
        "      prv_urls.append(old_urls[i])\n",
        "      prv_h1.append(old_h1s[i])\n"
      ],
      "execution_count": 12,
      "outputs": [
        {
          "output_type": "stream",
          "text": [
            "100%|██████████| 342/342 [00:00<00:00, 408.25it/s]\n"
          ],
          "name": "stderr"
        }
      ]
    },
    {
      "cell_type": "markdown",
      "metadata": {
        "id": "yljEonp2_10K",
        "colab_type": "text"
      },
      "source": [
        "**Create DataFrames**"
      ]
    },
    {
      "cell_type": "code",
      "metadata": {
        "id": "xQRqjy3DSFSO",
        "colab_type": "code",
        "colab": {}
      },
      "source": [
        "df = pd.DataFrame({\"Partial New H1\" : nw_h1, \"Exact New Urls\" : nw_urls, \"Old H1\":prv_h1, \"Old Urls\" : prv_urls, })"
      ],
      "execution_count": 0,
      "outputs": []
    },
    {
      "cell_type": "code",
      "metadata": {
        "id": "A57ed3XG9Mya",
        "colab_type": "code",
        "colab": {
          "base_uri": "https://localhost:8080/",
          "height": 54
        },
        "outputId": "8d48e589-d470-42d3-f3fb-3eb271d999e1"
      },
      "source": [
        "'''\n",
        "exact_df = pd.DataFrame({\"Exact Old H1\":ex_prv_h1, \"Exact New H1\" : ex_nw_h1, \"Old Urls\" : ex_prv_urls, \"Exact New Urls\" : ex_nw_urls})\n",
        "partial_df = pd.DataFrame({\"Old H1\":prv_h1, \"Partial New H1\" : nw_h1, \"Old Urls\" : prv_urls, \"Exact New Urls\" : nw_urls})\n",
        "nomatch_df = pd.DataFrame({\"Exact Old H1\":non_prv_h1, \"Exact New H1\" : non_nw_h1, \"Old Urls\" : non_prv_urls, \"Exact New Urls\" : non_nw_urls})\n",
        "'''"
      ],
      "execution_count": 14,
      "outputs": [
        {
          "output_type": "execute_result",
          "data": {
            "text/plain": [
              "'\\nexact_df = pd.DataFrame({\"Exact Old H1\":ex_prv_h1, \"Exact New H1\" : ex_nw_h1, \"Old Urls\" : ex_prv_urls, \"Exact New Urls\" : ex_nw_urls})\\npartial_df = pd.DataFrame({\"Old H1\":prv_h1, \"Partial New H1\" : nw_h1, \"Old Urls\" : prv_urls, \"Exact New Urls\" : nw_urls})\\nnomatch_df = pd.DataFrame({\"Exact Old H1\":non_prv_h1, \"Exact New H1\" : non_nw_h1, \"Old Urls\" : non_prv_urls, \"Exact New Urls\" : non_nw_urls})\\n'"
            ]
          },
          "metadata": {
            "tags": []
          },
          "execution_count": 14
        }
      ]
    },
    {
      "cell_type": "markdown",
      "metadata": {
        "id": "JFrx32bcnbUR",
        "colab_type": "text"
      },
      "source": [
        ""
      ]
    },
    {
      "cell_type": "markdown",
      "metadata": {
        "id": "hPCmJEWy0D-Z",
        "colab_type": "text"
      },
      "source": [
        "**Output and download**"
      ]
    },
    {
      "cell_type": "code",
      "metadata": {
        "id": "QujJ16fUSUGr",
        "colab_type": "code",
        "outputId": "3b4cc923-732e-4c8a-9cc2-eef5fd5f61c5",
        "colab": {
          "base_uri": "https://localhost:8080/",
          "height": 34
        }
      },
      "source": [
        "\n",
        "output_name = input(\"What would you like to call your output file? : \")\n",
        "df.to_excel(f\"MP {output_name}.xls\")\n",
        "files.download(f\"MP {output_name}.xls\")\n"
      ],
      "execution_count": 18,
      "outputs": [
        {
          "output_type": "stream",
          "text": [
            "What would you like to call your output file? : Alcohol 1\n"
          ],
          "name": "stdout"
        }
      ]
    },
    {
      "cell_type": "code",
      "metadata": {
        "id": "GUk7TVkE-HNS",
        "colab_type": "code",
        "colab": {}
      },
      "source": [
        "'''\n",
        "output_name = input(\"What would you like to call your output file? : \")\n",
        "exact_df.to_excel(f\"MP {output_name} Exact.xls\")\n",
        "partial_df.to_excel(f\"MP {output_name} Partial.xls\")\n",
        "nomatch_df.to_excel(f\"MP {output_name} No Match.xls\")\n",
        "files.download(f\"MP {output_name} Exact.xls\")\n",
        "files.download(f\"MP {output_name} Partial.xls\")\n",
        "files.download(f\"MP {output_name} No Match.xls\")\n",
        "'''"
      ],
      "execution_count": 0,
      "outputs": []
    },
    {
      "cell_type": "markdown",
      "metadata": {
        "id": "QEWCH0QPz_GK",
        "colab_type": "text"
      },
      "source": [
        "**Save to Pandas DataFrame**"
      ]
    }
  ]
}